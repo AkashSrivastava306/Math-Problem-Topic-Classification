{
 "cells": [
  {
   "cell_type": "code",
   "execution_count": 1,
   "id": "048cf02b",
   "metadata": {
    "_cell_guid": "b1076dfc-b9ad-4769-8c92-a6c4dae69d19",
    "_uuid": "8f2839f25d086af736a60e9eeb907d3b93b6e0e5",
    "execution": {
     "iopub.execute_input": "2025-05-11T11:21:04.032273Z",
     "iopub.status.busy": "2025-05-11T11:21:04.031838Z",
     "iopub.status.idle": "2025-05-11T11:21:06.102124Z",
     "shell.execute_reply": "2025-05-11T11:21:06.100897Z"
    },
    "papermill": {
     "duration": 2.085502,
     "end_time": "2025-05-11T11:21:06.103821",
     "exception": false,
     "start_time": "2025-05-11T11:21:04.018319",
     "status": "completed"
    },
    "tags": []
   },
   "outputs": [
    {
     "name": "stdout",
     "output_type": "stream",
     "text": [
      "/kaggle/input/classification-of-math-problems-by-kasut-academy/sample_submission.csv\n",
      "/kaggle/input/classification-of-math-problems-by-kasut-academy/train.csv\n",
      "/kaggle/input/classification-of-math-problems-by-kasut-academy/test.csv\n"
     ]
    }
   ],
   "source": [
    "# This Python 3 environment comes with many helpful analytics libraries installed\n",
    "# It is defined by the kaggle/python Docker image: https://github.com/kaggle/docker-python\n",
    "# For example, here's several helpful packages to load\n",
    "\n",
    "import numpy as np # linear algebra\n",
    "import pandas as pd # data processing, CSV file I/O (e.g. pd.read_csv)\n",
    "\n",
    "# Input data files are available in the read-only \"../input/\" directory\n",
    "# For example, running this (by clicking run or pressing Shift+Enter) will list all files under the input directory\n",
    "\n",
    "import os\n",
    "for dirname, _, filenames in os.walk('/kaggle/input'):\n",
    "    for filename in filenames:\n",
    "        print(os.path.join(dirname, filename))\n",
    "\n",
    "# You can write up to 20GB to the current directory (/kaggle/working/) that gets preserved as output when you create a version using \"Save & Run All\" \n",
    "# You can also write temporary files to /kaggle/temp/, but they won't be saved outside of the current session"
   ]
  },
  {
   "cell_type": "markdown",
   "id": "86ff0cc3",
   "metadata": {
    "papermill": {
     "duration": 0.009653,
     "end_time": "2025-05-11T11:21:06.123990",
     "exception": false,
     "start_time": "2025-05-11T11:21:06.114337",
     "status": "completed"
    },
    "tags": []
   },
   "source": [
    "Starting the challenge"
   ]
  },
  {
   "cell_type": "code",
   "execution_count": 2,
   "id": "63e05a15",
   "metadata": {
    "execution": {
     "iopub.execute_input": "2025-05-11T11:21:06.145658Z",
     "iopub.status.busy": "2025-05-11T11:21:06.145256Z",
     "iopub.status.idle": "2025-05-11T11:21:06.149733Z",
     "shell.execute_reply": "2025-05-11T11:21:06.148925Z"
    },
    "papermill": {
     "duration": 0.016814,
     "end_time": "2025-05-11T11:21:06.151099",
     "exception": false,
     "start_time": "2025-05-11T11:21:06.134285",
     "status": "completed"
    },
    "tags": []
   },
   "outputs": [],
   "source": [
    "#let's first important library\n",
    "import numpy as np\n",
    "import pandas as pd"
   ]
  },
  {
   "cell_type": "code",
   "execution_count": 3,
   "id": "eec7a77b",
   "metadata": {
    "execution": {
     "iopub.execute_input": "2025-05-11T11:21:06.172716Z",
     "iopub.status.busy": "2025-05-11T11:21:06.172427Z",
     "iopub.status.idle": "2025-05-11T11:21:06.463797Z",
     "shell.execute_reply": "2025-05-11T11:21:06.462881Z"
    },
    "papermill": {
     "duration": 0.304505,
     "end_time": "2025-05-11T11:21:06.465602",
     "exception": false,
     "start_time": "2025-05-11T11:21:06.161097",
     "status": "completed"
    },
    "tags": []
   },
   "outputs": [],
   "source": [
    "df=pd.read_csv(\"/kaggle/input/classification-of-math-problems-by-kasut-academy/train.csv\")\n",
    "test=pd.read_csv(\"/kaggle/input/classification-of-math-problems-by-kasut-academy/test.csv\")"
   ]
  },
  {
   "cell_type": "code",
   "execution_count": 4,
   "id": "b0da4999",
   "metadata": {
    "execution": {
     "iopub.execute_input": "2025-05-11T11:21:06.488043Z",
     "iopub.status.busy": "2025-05-11T11:21:06.487720Z",
     "iopub.status.idle": "2025-05-11T11:21:06.510881Z",
     "shell.execute_reply": "2025-05-11T11:21:06.509986Z"
    },
    "papermill": {
     "duration": 0.036436,
     "end_time": "2025-05-11T11:21:06.512523",
     "exception": false,
     "start_time": "2025-05-11T11:21:06.476087",
     "status": "completed"
    },
    "tags": []
   },
   "outputs": [
    {
     "data": {
      "text/html": [
       "<div>\n",
       "<style scoped>\n",
       "    .dataframe tbody tr th:only-of-type {\n",
       "        vertical-align: middle;\n",
       "    }\n",
       "\n",
       "    .dataframe tbody tr th {\n",
       "        vertical-align: top;\n",
       "    }\n",
       "\n",
       "    .dataframe thead th {\n",
       "        text-align: right;\n",
       "    }\n",
       "</style>\n",
       "<table border=\"1\" class=\"dataframe\">\n",
       "  <thead>\n",
       "    <tr style=\"text-align: right;\">\n",
       "      <th></th>\n",
       "      <th>Question</th>\n",
       "      <th>label</th>\n",
       "    </tr>\n",
       "  </thead>\n",
       "  <tbody>\n",
       "    <tr>\n",
       "      <th>0</th>\n",
       "      <td>A solitaire game is played as follows.  Six di...</td>\n",
       "      <td>3</td>\n",
       "    </tr>\n",
       "    <tr>\n",
       "      <th>1</th>\n",
       "      <td>2. The school table tennis championship was he...</td>\n",
       "      <td>5</td>\n",
       "    </tr>\n",
       "    <tr>\n",
       "      <th>2</th>\n",
       "      <td>Given that $x, y,$ and $z$ are real numbers th...</td>\n",
       "      <td>0</td>\n",
       "    </tr>\n",
       "    <tr>\n",
       "      <th>3</th>\n",
       "      <td>$25 \\cdot 22$ Given three distinct points $P\\l...</td>\n",
       "      <td>1</td>\n",
       "    </tr>\n",
       "    <tr>\n",
       "      <th>4</th>\n",
       "      <td>I am thinking of a five-digit number composed ...</td>\n",
       "      <td>5</td>\n",
       "    </tr>\n",
       "    <tr>\n",
       "      <th>5</th>\n",
       "      <td>6.1. On 19 cards, the numbers $15,16,17, \\ldot...</td>\n",
       "      <td>5</td>\n",
       "    </tr>\n",
       "    <tr>\n",
       "      <th>6</th>\n",
       "      <td>10.033. A tangent, parallel to the base, is dr...</td>\n",
       "      <td>1</td>\n",
       "    </tr>\n",
       "    <tr>\n",
       "      <th>7</th>\n",
       "      <td>11. (20 points) The ellipse $E$ with eccentric...</td>\n",
       "      <td>1</td>\n",
       "    </tr>\n",
       "    <tr>\n",
       "      <th>8</th>\n",
       "      <td>Example 3 Find the minimum value of the functi...</td>\n",
       "      <td>2</td>\n",
       "    </tr>\n",
       "    <tr>\n",
       "      <th>9</th>\n",
       "      <td>Consider a \\textit{growing spiral} in the plan...</td>\n",
       "      <td>5</td>\n",
       "    </tr>\n",
       "  </tbody>\n",
       "</table>\n",
       "</div>"
      ],
      "text/plain": [
       "                                            Question  label\n",
       "0  A solitaire game is played as follows.  Six di...      3\n",
       "1  2. The school table tennis championship was he...      5\n",
       "2  Given that $x, y,$ and $z$ are real numbers th...      0\n",
       "3  $25 \\cdot 22$ Given three distinct points $P\\l...      1\n",
       "4  I am thinking of a five-digit number composed ...      5\n",
       "5  6.1. On 19 cards, the numbers $15,16,17, \\ldot...      5\n",
       "6  10.033. A tangent, parallel to the base, is dr...      1\n",
       "7  11. (20 points) The ellipse $E$ with eccentric...      1\n",
       "8  Example 3 Find the minimum value of the functi...      2\n",
       "9  Consider a \\textit{growing spiral} in the plan...      5"
      ]
     },
     "execution_count": 4,
     "metadata": {},
     "output_type": "execute_result"
    }
   ],
   "source": [
    "df.head(10)"
   ]
  },
  {
   "cell_type": "code",
   "execution_count": 5,
   "id": "92db580e",
   "metadata": {
    "execution": {
     "iopub.execute_input": "2025-05-11T11:21:06.534582Z",
     "iopub.status.busy": "2025-05-11T11:21:06.533770Z",
     "iopub.status.idle": "2025-05-11T11:21:06.544287Z",
     "shell.execute_reply": "2025-05-11T11:21:06.543484Z"
    },
    "papermill": {
     "duration": 0.022757,
     "end_time": "2025-05-11T11:21:06.545643",
     "exception": false,
     "start_time": "2025-05-11T11:21:06.522886",
     "status": "completed"
    },
    "tags": []
   },
   "outputs": [
    {
     "data": {
      "text/plain": [
       "Question    0\n",
       "label       0\n",
       "dtype: int64"
      ]
     },
     "execution_count": 5,
     "metadata": {},
     "output_type": "execute_result"
    }
   ],
   "source": [
    "# checking the null value first\n",
    "df.isnull().sum()"
   ]
  },
  {
   "cell_type": "code",
   "execution_count": 6,
   "id": "c810e445",
   "metadata": {
    "execution": {
     "iopub.execute_input": "2025-05-11T11:21:06.567205Z",
     "iopub.status.busy": "2025-05-11T11:21:06.566877Z",
     "iopub.status.idle": "2025-05-11T11:21:06.588801Z",
     "shell.execute_reply": "2025-05-11T11:21:06.587972Z"
    },
    "papermill": {
     "duration": 0.034583,
     "end_time": "2025-05-11T11:21:06.590384",
     "exception": false,
     "start_time": "2025-05-11T11:21:06.555801",
     "status": "completed"
    },
    "tags": []
   },
   "outputs": [
    {
     "data": {
      "text/plain": [
       "0"
      ]
     },
     "execution_count": 6,
     "metadata": {},
     "output_type": "execute_result"
    }
   ],
   "source": [
    "#checking for any duplicate value present in this df\n",
    "df.duplicated().sum()"
   ]
  },
  {
   "cell_type": "code",
   "execution_count": 7,
   "id": "188ab1b2",
   "metadata": {
    "execution": {
     "iopub.execute_input": "2025-05-11T11:21:06.612655Z",
     "iopub.status.busy": "2025-05-11T11:21:06.612330Z",
     "iopub.status.idle": "2025-05-11T11:21:06.620961Z",
     "shell.execute_reply": "2025-05-11T11:21:06.620215Z"
    },
    "papermill": {
     "duration": 0.021388,
     "end_time": "2025-05-11T11:21:06.622369",
     "exception": false,
     "start_time": "2025-05-11T11:21:06.600981",
     "status": "completed"
    },
    "tags": []
   },
   "outputs": [
    {
     "data": {
      "text/plain": [
       "label\n",
       "0    2618\n",
       "1    2439\n",
       "5    1827\n",
       "4    1712\n",
       "2    1039\n",
       "3     368\n",
       "6     100\n",
       "7      86\n",
       "Name: count, dtype: int64"
      ]
     },
     "execution_count": 7,
     "metadata": {},
     "output_type": "execute_result"
    }
   ],
   "source": [
    "df['label'].value_counts()"
   ]
  },
  {
   "cell_type": "markdown",
   "id": "0421120d",
   "metadata": {
    "papermill": {
     "duration": 0.010083,
     "end_time": "2025-05-11T11:21:06.643297",
     "exception": false,
     "start_time": "2025-05-11T11:21:06.633214",
     "status": "completed"
    },
    "tags": []
   },
   "source": [
    "as i checked the df label its seems dataset is imbalance"
   ]
  },
  {
   "cell_type": "code",
   "execution_count": 8,
   "id": "bf6813c6",
   "metadata": {
    "execution": {
     "iopub.execute_input": "2025-05-11T11:21:06.665380Z",
     "iopub.status.busy": "2025-05-11T11:21:06.664747Z",
     "iopub.status.idle": "2025-05-11T11:21:06.674738Z",
     "shell.execute_reply": "2025-05-11T11:21:06.674084Z"
    },
    "papermill": {
     "duration": 0.022495,
     "end_time": "2025-05-11T11:21:06.676024",
     "exception": false,
     "start_time": "2025-05-11T11:21:06.653529",
     "status": "completed"
    },
    "tags": []
   },
   "outputs": [
    {
     "data": {
      "text/plain": [
       "'10.033. A tangent, parallel to the base, is drawn to the circle inscribed in an isosceles triangle with a base of 12 cm and a height of 8 cm. Find the length of the segment of this tangent, enclosed between the sides of the triangle.'"
      ]
     },
     "execution_count": 8,
     "metadata": {},
     "output_type": "execute_result"
    }
   ],
   "source": [
    "#let's check data of each category first which can help us to understand the text file\n",
    "class_1 = df[df['label']==1]\n",
    "class_1.iloc[1]['Question']"
   ]
  },
  {
   "cell_type": "code",
   "execution_count": 9,
   "id": "facf03a4",
   "metadata": {
    "execution": {
     "iopub.execute_input": "2025-05-11T11:21:06.698854Z",
     "iopub.status.busy": "2025-05-11T11:21:06.698533Z",
     "iopub.status.idle": "2025-05-11T11:21:06.706121Z",
     "shell.execute_reply": "2025-05-11T11:21:06.705208Z"
    },
    "papermill": {
     "duration": 0.020596,
     "end_time": "2025-05-11T11:21:06.707498",
     "exception": false,
     "start_time": "2025-05-11T11:21:06.686902",
     "status": "completed"
    },
    "tags": []
   },
   "outputs": [
    {
     "data": {
      "text/plain": [
       "'EXAMPLE. Calculate the length of the arc of a curve given parametrically\\n\\n$$\\n\\\\left\\\\{\\\\begin{array}{l}\\nx=\\\\left(t^{2}-2\\\\right) \\\\sin t+2 t \\\\cos t, \\\\\\\\\\ny=\\\\left(2-t^{2}\\\\right) \\\\cos t+2 t \\\\sin t,\\n\\\\end{array} \\\\quad 0 \\\\leq t \\\\leq \\\\pi\\\\right.\\n$$'"
      ]
     },
     "execution_count": 9,
     "metadata": {},
     "output_type": "execute_result"
    }
   ],
   "source": [
    "class_2 = df[df['label']==2]\n",
    "class_2.iloc[1]['Question']"
   ]
  },
  {
   "cell_type": "code",
   "execution_count": 10,
   "id": "fd3f0c28",
   "metadata": {
    "execution": {
     "iopub.execute_input": "2025-05-11T11:21:06.731292Z",
     "iopub.status.busy": "2025-05-11T11:21:06.730909Z",
     "iopub.status.idle": "2025-05-11T11:21:06.738071Z",
     "shell.execute_reply": "2025-05-11T11:21:06.737115Z"
    },
    "papermill": {
     "duration": 0.021121,
     "end_time": "2025-05-11T11:21:06.739679",
     "exception": false,
     "start_time": "2025-05-11T11:21:06.718558",
     "status": "completed"
    },
    "tags": []
   },
   "outputs": [
    {
     "data": {
      "text/plain": [
       "'3. Let $[x]$ denote the greatest integer not exceeding the real number $x$. For example, $[3]=3,[\\\\sqrt{2}]=1,[-\\\\pi]=-4$. Let $x$ be a positive real number. If $\\\\left[\\\\log _{2} x\\\\right]$ is even, then $x$ is called a lucky number. The probability that a number randomly selected from the interval $(0,1)$ is a lucky number is $\\\\qquad$'"
      ]
     },
     "execution_count": 10,
     "metadata": {},
     "output_type": "execute_result"
    }
   ],
   "source": [
    "class_3 = df[df['label']==3]\n",
    "class_3.iloc[1]['Question']"
   ]
  },
  {
   "cell_type": "code",
   "execution_count": 11,
   "id": "98391538",
   "metadata": {
    "execution": {
     "iopub.execute_input": "2025-05-11T11:21:06.763251Z",
     "iopub.status.busy": "2025-05-11T11:21:06.762907Z",
     "iopub.status.idle": "2025-05-11T11:21:06.770417Z",
     "shell.execute_reply": "2025-05-11T11:21:06.769508Z"
    },
    "papermill": {
     "duration": 0.02043,
     "end_time": "2025-05-11T11:21:06.771877",
     "exception": false,
     "start_time": "2025-05-11T11:21:06.751447",
     "status": "completed"
    },
    "tags": []
   },
   "outputs": [
    {
     "data": {
      "text/plain": [
       "'Example 6 Let $a, b$ be positive integers, and satisfy $2\\\\left(\\\\sqrt{\\\\frac{1}{a}}+\\\\sqrt{\\\\frac{15}{b}}\\\\right)$ is an integer. Then the number of such ordered pairs $(a, b)$ is $\\\\qquad$ pairs.\\n$(2009$, National Junior High School Mathematics League)'"
      ]
     },
     "execution_count": 11,
     "metadata": {},
     "output_type": "execute_result"
    }
   ],
   "source": [
    "class_4 = df[df['label']==4]\n",
    "class_4.iloc[1]['Question']"
   ]
  },
  {
   "cell_type": "code",
   "execution_count": 12,
   "id": "6bc682fd",
   "metadata": {
    "execution": {
     "iopub.execute_input": "2025-05-11T11:21:06.795371Z",
     "iopub.status.busy": "2025-05-11T11:21:06.794735Z",
     "iopub.status.idle": "2025-05-11T11:21:06.802068Z",
     "shell.execute_reply": "2025-05-11T11:21:06.801193Z"
    },
    "papermill": {
     "duration": 0.020612,
     "end_time": "2025-05-11T11:21:06.803678",
     "exception": false,
     "start_time": "2025-05-11T11:21:06.783066",
     "status": "completed"
    },
    "tags": []
   },
   "outputs": [
    {
     "data": {
      "text/plain": [
       "'I am thinking of a five-digit number composed of even digits. If I swap the digit in the third position $\\\\mathrm{s}$ with any other, the number decreases. Furthermore, I will reveal that the first digit is double the last, and the second digit is double the second to last.\\n\\nWhat number am I thinking of?\\n\\n(M. Mach)\\n\\nHint. Can you compare the third digit with the others?'"
      ]
     },
     "execution_count": 12,
     "metadata": {},
     "output_type": "execute_result"
    }
   ],
   "source": [
    "class_5 = df[df['label']==5]\n",
    "class_5.iloc[1]['Question']"
   ]
  },
  {
   "cell_type": "code",
   "execution_count": 13,
   "id": "9348463e",
   "metadata": {
    "execution": {
     "iopub.execute_input": "2025-05-11T11:21:06.827215Z",
     "iopub.status.busy": "2025-05-11T11:21:06.826825Z",
     "iopub.status.idle": "2025-05-11T11:21:06.833809Z",
     "shell.execute_reply": "2025-05-11T11:21:06.832821Z"
    },
    "papermill": {
     "duration": 0.02043,
     "end_time": "2025-05-11T11:21:06.835309",
     "exception": false,
     "start_time": "2025-05-11T11:21:06.814879",
     "status": "completed"
    },
    "tags": []
   },
   "outputs": [
    {
     "data": {
      "text/plain": [
       "'7. Let $\\\\bar{a}$ be a vector with coordinates $\\\\bar{a}(3,-4,-\\\\sqrt{11})$, and $\\\\bar{b}$ be a vector with coordinates $\\\\bar{b}(\\\\operatorname{Sin} 2 x \\\\operatorname{Cos} y, \\\\operatorname{Cos} 2 x \\\\operatorname{Cos} y, \\\\operatorname{Siny})$. The length $|\\\\bar{a}|$ is 6, and the length of vector $\\\\bar{b}$ is clearly 1. Since $f(x, y)=\\\\bar{a} \\\\cdot \\\\bar{b}$, where $\\\\bar{a} \\\\cdot \\\\bar{b}$ is the dot product of the vectors, by the properties of the dot product, $-|\\\\bar{a}||\\\\bar{b}| \\\\leq \\\\bar{a} \\\\cdot \\\\bar{b} \\\\leq|\\\\bar{a}||\\\\bar{b}|$. Therefore, $-6 \\\\leq f(x, y) \\\\leq 6$. Equality will be achieved if vectors $\\\\bar{a}$ and $\\\\bar{b}$ are collinear, i.e., $\\\\frac{\\\\operatorname{Sin} 2 x \\\\operatorname{Cos} y}{3}=\\\\frac{\\\\operatorname{Cos} 2 x \\\\operatorname{Cos} y}{-4}=\\\\frac{\\\\operatorname{Siny}}{-\\\\sqrt{11}}$, which will be satisfied for corresponding $x$ and $y$. Thus, $\\\\min f(x, y)=-6, \\\\max f(x, y)=6$.'"
      ]
     },
     "execution_count": 13,
     "metadata": {},
     "output_type": "execute_result"
    }
   ],
   "source": [
    "class_6 = df[df['label']==6]\n",
    "class_6.iloc[1]['Question']"
   ]
  },
  {
   "cell_type": "code",
   "execution_count": 14,
   "id": "b969ffb8",
   "metadata": {
    "execution": {
     "iopub.execute_input": "2025-05-11T11:21:06.859515Z",
     "iopub.status.busy": "2025-05-11T11:21:06.859143Z",
     "iopub.status.idle": "2025-05-11T11:21:06.867053Z",
     "shell.execute_reply": "2025-05-11T11:21:06.866215Z"
    },
    "papermill": {
     "duration": 0.021503,
     "end_time": "2025-05-11T11:21:06.868561",
     "exception": false,
     "start_time": "2025-05-11T11:21:06.847058",
     "status": "completed"
    },
    "tags": []
   },
   "outputs": [
    {
     "data": {
      "text/plain": [
       "'Prove that $x^2+1$ is irreducible in $\\\\mathbb{F}_7$'"
      ]
     },
     "execution_count": 14,
     "metadata": {},
     "output_type": "execute_result"
    }
   ],
   "source": [
    "class_7 = df[df['label']==7]\n",
    "class_7.iloc[1]['Question']"
   ]
  },
  {
   "cell_type": "code",
   "execution_count": 15,
   "id": "f3546ebf",
   "metadata": {
    "execution": {
     "iopub.execute_input": "2025-05-11T11:21:06.956192Z",
     "iopub.status.busy": "2025-05-11T11:21:06.955851Z",
     "iopub.status.idle": "2025-05-11T11:21:06.964443Z",
     "shell.execute_reply": "2025-05-11T11:21:06.963658Z"
    },
    "papermill": {
     "duration": 0.022091,
     "end_time": "2025-05-11T11:21:06.965841",
     "exception": false,
     "start_time": "2025-05-11T11:21:06.943750",
     "status": "completed"
    },
    "tags": []
   },
   "outputs": [
    {
     "data": {
      "text/html": [
       "<div>\n",
       "<style scoped>\n",
       "    .dataframe tbody tr th:only-of-type {\n",
       "        vertical-align: middle;\n",
       "    }\n",
       "\n",
       "    .dataframe tbody tr th {\n",
       "        vertical-align: top;\n",
       "    }\n",
       "\n",
       "    .dataframe thead th {\n",
       "        text-align: right;\n",
       "    }\n",
       "</style>\n",
       "<table border=\"1\" class=\"dataframe\">\n",
       "  <thead>\n",
       "    <tr style=\"text-align: right;\">\n",
       "      <th></th>\n",
       "      <th>Question</th>\n",
       "      <th>label</th>\n",
       "    </tr>\n",
       "  </thead>\n",
       "  <tbody>\n",
       "    <tr>\n",
       "      <th>0</th>\n",
       "      <td>A solitaire game is played as follows.  Six di...</td>\n",
       "      <td>3</td>\n",
       "    </tr>\n",
       "    <tr>\n",
       "      <th>1</th>\n",
       "      <td>2. The school table tennis championship was he...</td>\n",
       "      <td>5</td>\n",
       "    </tr>\n",
       "    <tr>\n",
       "      <th>2</th>\n",
       "      <td>Given that $x, y,$ and $z$ are real numbers th...</td>\n",
       "      <td>0</td>\n",
       "    </tr>\n",
       "    <tr>\n",
       "      <th>3</th>\n",
       "      <td>$25 \\cdot 22$ Given three distinct points $P\\l...</td>\n",
       "      <td>1</td>\n",
       "    </tr>\n",
       "    <tr>\n",
       "      <th>4</th>\n",
       "      <td>I am thinking of a five-digit number composed ...</td>\n",
       "      <td>5</td>\n",
       "    </tr>\n",
       "  </tbody>\n",
       "</table>\n",
       "</div>"
      ],
      "text/plain": [
       "                                            Question  label\n",
       "0  A solitaire game is played as follows.  Six di...      3\n",
       "1  2. The school table tennis championship was he...      5\n",
       "2  Given that $x, y,$ and $z$ are real numbers th...      0\n",
       "3  $25 \\cdot 22$ Given three distinct points $P\\l...      1\n",
       "4  I am thinking of a five-digit number composed ...      5"
      ]
     },
     "execution_count": 15,
     "metadata": {},
     "output_type": "execute_result"
    }
   ],
   "source": [
    "df.head(5)"
   ]
  },
  {
   "cell_type": "markdown",
   "id": "9b655003",
   "metadata": {
    "papermill": {
     "duration": 0.011986,
     "end_time": "2025-05-11T11:21:06.989771",
     "exception": false,
     "start_time": "2025-05-11T11:21:06.977785",
     "status": "completed"
    },
    "tags": []
   },
   "source": [
    "# Applying Text Preprocessing"
   ]
  },
  {
   "cell_type": "code",
   "execution_count": 16,
   "id": "8d260d74",
   "metadata": {
    "execution": {
     "iopub.execute_input": "2025-05-11T11:21:07.014563Z",
     "iopub.status.busy": "2025-05-11T11:21:07.014259Z",
     "iopub.status.idle": "2025-05-11T11:21:07.020696Z",
     "shell.execute_reply": "2025-05-11T11:21:07.019520Z"
    },
    "papermill": {
     "duration": 0.021025,
     "end_time": "2025-05-11T11:21:07.022470",
     "exception": false,
     "start_time": "2025-05-11T11:21:07.001445",
     "status": "completed"
    },
    "tags": []
   },
   "outputs": [],
   "source": [
    "import re\n",
    "\n",
    "def preprocess(text):\n",
    "    # Lowercase\n",
    "    text = text.lower()\n",
    "\n",
    "    # Remove LaTeX math delimiters\n",
    "    text = re.sub(r'\\$+', '', text)\n",
    "    \n",
    "    # Remove LaTeX formatting commands like \\operatorname{}, \\frac{}, \\sqrt{}, etc.\n",
    "    text = re.sub(r'\\\\operatorname\\{([^}]+)\\}', r'\\1', text)\n",
    "    text = re.sub(r'\\\\sqrt\\{([^}]+)\\}', r'<NUM>', text)  # normalize square roots\n",
    "    text = re.sub(r'\\\\frac\\{([^}]+)\\}\\{([^}]+)\\}', r'\\1 divided by \\2', text)\n",
    "\n",
    "    # Remove remaining backslashes and LaTeX syntax\n",
    "    text = re.sub(r'\\\\[a-zA-Z]+', '', text)\n",
    "    \n",
    "    # Replace LaTeX symbols with words or clean versions\n",
    "    text = text.replace('|', '')\n",
    "    text = re.sub(r'[^a-z0-9\\.\\=\\-\\+\\*/\\s]', ' ', text)  # remove weird symbols\n",
    "    text = re.sub(r'\\s+', ' ', text).strip()  # normalize whitespace\n",
    "\n",
    "    # Normalize standalone digits and decimals (e.g., 3, 4.5, -11)\n",
    "    text = re.sub(r'\\b-?\\d+(\\.\\d+)?\\b', '<NUM>', text)\n",
    "\n",
    "    return text"
   ]
  },
  {
   "cell_type": "code",
   "execution_count": 17,
   "id": "57a0e6af",
   "metadata": {
    "execution": {
     "iopub.execute_input": "2025-05-11T11:21:07.047865Z",
     "iopub.status.busy": "2025-05-11T11:21:07.047561Z",
     "iopub.status.idle": "2025-05-11T11:21:07.647050Z",
     "shell.execute_reply": "2025-05-11T11:21:07.645972Z"
    },
    "papermill": {
     "duration": 0.614943,
     "end_time": "2025-05-11T11:21:07.649530",
     "exception": false,
     "start_time": "2025-05-11T11:21:07.034587",
     "status": "completed"
    },
    "tags": []
   },
   "outputs": [],
   "source": [
    "df['Preprocess question']=df['Question'].apply(preprocess)"
   ]
  },
  {
   "cell_type": "code",
   "execution_count": 18,
   "id": "ffe2800e",
   "metadata": {
    "execution": {
     "iopub.execute_input": "2025-05-11T11:21:07.680034Z",
     "iopub.status.busy": "2025-05-11T11:21:07.679738Z",
     "iopub.status.idle": "2025-05-11T11:21:07.689383Z",
     "shell.execute_reply": "2025-05-11T11:21:07.688198Z"
    },
    "papermill": {
     "duration": 0.02567,
     "end_time": "2025-05-11T11:21:07.690878",
     "exception": false,
     "start_time": "2025-05-11T11:21:07.665208",
     "status": "completed"
    },
    "tags": []
   },
   "outputs": [
    {
     "data": {
      "text/html": [
       "<div>\n",
       "<style scoped>\n",
       "    .dataframe tbody tr th:only-of-type {\n",
       "        vertical-align: middle;\n",
       "    }\n",
       "\n",
       "    .dataframe tbody tr th {\n",
       "        vertical-align: top;\n",
       "    }\n",
       "\n",
       "    .dataframe thead th {\n",
       "        text-align: right;\n",
       "    }\n",
       "</style>\n",
       "<table border=\"1\" class=\"dataframe\">\n",
       "  <thead>\n",
       "    <tr style=\"text-align: right;\">\n",
       "      <th></th>\n",
       "      <th>Question</th>\n",
       "      <th>label</th>\n",
       "      <th>Preprocess question</th>\n",
       "    </tr>\n",
       "  </thead>\n",
       "  <tbody>\n",
       "    <tr>\n",
       "      <th>0</th>\n",
       "      <td>A solitaire game is played as follows.  Six di...</td>\n",
       "      <td>3</td>\n",
       "      <td>a solitaire game is played as follows. six dis...</td>\n",
       "    </tr>\n",
       "    <tr>\n",
       "      <th>1</th>\n",
       "      <td>2. The school table tennis championship was he...</td>\n",
       "      <td>5</td>\n",
       "      <td>&lt;NUM&gt;. the school table tennis championship wa...</td>\n",
       "    </tr>\n",
       "    <tr>\n",
       "      <th>2</th>\n",
       "      <td>Given that $x, y,$ and $z$ are real numbers th...</td>\n",
       "      <td>0</td>\n",
       "      <td>given that x y and z are real numbers that sat...</td>\n",
       "    </tr>\n",
       "    <tr>\n",
       "      <th>3</th>\n",
       "      <td>$25 \\cdot 22$ Given three distinct points $P\\l...</td>\n",
       "      <td>1</td>\n",
       "      <td>&lt;NUM&gt; &lt;NUM&gt; given three distinct points p x &lt;N...</td>\n",
       "    </tr>\n",
       "    <tr>\n",
       "      <th>4</th>\n",
       "      <td>I am thinking of a five-digit number composed ...</td>\n",
       "      <td>5</td>\n",
       "      <td>i am thinking of a five-digit number composed ...</td>\n",
       "    </tr>\n",
       "  </tbody>\n",
       "</table>\n",
       "</div>"
      ],
      "text/plain": [
       "                                            Question  label  \\\n",
       "0  A solitaire game is played as follows.  Six di...      3   \n",
       "1  2. The school table tennis championship was he...      5   \n",
       "2  Given that $x, y,$ and $z$ are real numbers th...      0   \n",
       "3  $25 \\cdot 22$ Given three distinct points $P\\l...      1   \n",
       "4  I am thinking of a five-digit number composed ...      5   \n",
       "\n",
       "                                 Preprocess question  \n",
       "0  a solitaire game is played as follows. six dis...  \n",
       "1  <NUM>. the school table tennis championship wa...  \n",
       "2  given that x y and z are real numbers that sat...  \n",
       "3  <NUM> <NUM> given three distinct points p x <N...  \n",
       "4  i am thinking of a five-digit number composed ...  "
      ]
     },
     "execution_count": 18,
     "metadata": {},
     "output_type": "execute_result"
    }
   ],
   "source": [
    "df.head(5)"
   ]
  },
  {
   "cell_type": "code",
   "execution_count": 19,
   "id": "6b8d051f",
   "metadata": {
    "execution": {
     "iopub.execute_input": "2025-05-11T11:21:07.718690Z",
     "iopub.status.busy": "2025-05-11T11:21:07.717804Z",
     "iopub.status.idle": "2025-05-11T11:21:07.725053Z",
     "shell.execute_reply": "2025-05-11T11:21:07.724270Z"
    },
    "papermill": {
     "duration": 0.02192,
     "end_time": "2025-05-11T11:21:07.726568",
     "exception": false,
     "start_time": "2025-05-11T11:21:07.704648",
     "status": "completed"
    },
    "tags": []
   },
   "outputs": [
    {
     "data": {
      "text/plain": [
       "'7. Let $\\\\bar{a}$ be a vector with coordinates $\\\\bar{a}(3,-4,-\\\\sqrt{11})$, and $\\\\bar{b}$ be a vector with coordinates $\\\\bar{b}(\\\\operatorname{Sin} 2 x \\\\operatorname{Cos} y, \\\\operatorname{Cos} 2 x \\\\operatorname{Cos} y, \\\\operatorname{Siny})$. The length $|\\\\bar{a}|$ is 6, and the length of vector $\\\\bar{b}$ is clearly 1. Since $f(x, y)=\\\\bar{a} \\\\cdot \\\\bar{b}$, where $\\\\bar{a} \\\\cdot \\\\bar{b}$ is the dot product of the vectors, by the properties of the dot product, $-|\\\\bar{a}||\\\\bar{b}| \\\\leq \\\\bar{a} \\\\cdot \\\\bar{b} \\\\leq|\\\\bar{a}||\\\\bar{b}|$. Therefore, $-6 \\\\leq f(x, y) \\\\leq 6$. Equality will be achieved if vectors $\\\\bar{a}$ and $\\\\bar{b}$ are collinear, i.e., $\\\\frac{\\\\operatorname{Sin} 2 x \\\\operatorname{Cos} y}{3}=\\\\frac{\\\\operatorname{Cos} 2 x \\\\operatorname{Cos} y}{-4}=\\\\frac{\\\\operatorname{Siny}}{-\\\\sqrt{11}}$, which will be satisfied for corresponding $x$ and $y$. Thus, $\\\\min f(x, y)=-6, \\\\max f(x, y)=6$.'"
      ]
     },
     "execution_count": 19,
     "metadata": {},
     "output_type": "execute_result"
    }
   ],
   "source": [
    "#let's take preprocess data\n",
    "class_6 = df[df['label']==6]\n",
    "class_6.iloc[1]['Question']"
   ]
  },
  {
   "cell_type": "code",
   "execution_count": 20,
   "id": "43bdbf84",
   "metadata": {
    "execution": {
     "iopub.execute_input": "2025-05-11T11:21:07.752356Z",
     "iopub.status.busy": "2025-05-11T11:21:07.751654Z",
     "iopub.status.idle": "2025-05-11T11:21:07.757896Z",
     "shell.execute_reply": "2025-05-11T11:21:07.757024Z"
    },
    "papermill": {
     "duration": 0.020789,
     "end_time": "2025-05-11T11:21:07.759533",
     "exception": false,
     "start_time": "2025-05-11T11:21:07.738744",
     "status": "completed"
    },
    "tags": []
   },
   "outputs": [
    {
     "data": {
      "text/plain": [
       "'<NUM>. let a be a vector with coordinates a <NUM> -<NUM> - and b be a vector with coordinates b sin <NUM> x cos y cos <NUM> x cos y siny . the length a is <NUM> and the length of vector b is clearly <NUM>. since f x y = a b where a b is the dot product of the vectors by the properties of the dot product - a b a b a b . therefore -<NUM> f x y <NUM>. equality will be achieved if vectors a and b are collinear i.e. sin <NUM> x cos y divided by <NUM>=cos <NUM> x cos y divided by -<NUM>=siny divided by - which will be satisfied for corresponding x and y. thus f x y =-<NUM> f x y =<NUM>.'"
      ]
     },
     "execution_count": 20,
     "metadata": {},
     "output_type": "execute_result"
    }
   ],
   "source": [
    "class_6.iloc[1]['Preprocess question']"
   ]
  },
  {
   "cell_type": "code",
   "execution_count": 21,
   "id": "08253675",
   "metadata": {
    "execution": {
     "iopub.execute_input": "2025-05-11T11:21:07.784454Z",
     "iopub.status.busy": "2025-05-11T11:21:07.784119Z",
     "iopub.status.idle": "2025-05-11T11:21:09.394410Z",
     "shell.execute_reply": "2025-05-11T11:21:09.393390Z"
    },
    "papermill": {
     "duration": 1.62446,
     "end_time": "2025-05-11T11:21:09.396177",
     "exception": false,
     "start_time": "2025-05-11T11:21:07.771717",
     "status": "completed"
    },
    "tags": []
   },
   "outputs": [],
   "source": [
    "#let's apply tfidf Vectorization \n",
    "from sklearn.feature_extraction.text import TfidfVectorizer\n",
    "tfidf=TfidfVectorizer(max_features=15000,ngram_range=(1, 2))"
   ]
  },
  {
   "cell_type": "code",
   "execution_count": 22,
   "id": "59471de1",
   "metadata": {
    "execution": {
     "iopub.execute_input": "2025-05-11T11:21:09.424728Z",
     "iopub.status.busy": "2025-05-11T11:21:09.423758Z",
     "iopub.status.idle": "2025-05-11T11:21:10.471141Z",
     "shell.execute_reply": "2025-05-11T11:21:10.470303Z"
    },
    "papermill": {
     "duration": 1.063814,
     "end_time": "2025-05-11T11:21:10.472857",
     "exception": false,
     "start_time": "2025-05-11T11:21:09.409043",
     "status": "completed"
    },
    "tags": []
   },
   "outputs": [],
   "source": [
    "vector=tfidf.fit_transform(df['Preprocess question'])"
   ]
  },
  {
   "cell_type": "code",
   "execution_count": 23,
   "id": "6a9767a6",
   "metadata": {
    "execution": {
     "iopub.execute_input": "2025-05-11T11:21:10.498048Z",
     "iopub.status.busy": "2025-05-11T11:21:10.497751Z",
     "iopub.status.idle": "2025-05-11T11:21:10.503290Z",
     "shell.execute_reply": "2025-05-11T11:21:10.502416Z"
    },
    "papermill": {
     "duration": 0.019916,
     "end_time": "2025-05-11T11:21:10.504616",
     "exception": false,
     "start_time": "2025-05-11T11:21:10.484700",
     "status": "completed"
    },
    "tags": []
   },
   "outputs": [
    {
     "data": {
      "text/plain": [
       "<Compressed Sparse Row sparse matrix of dtype 'float64'\n",
       "\twith 452749 stored elements and shape (10189, 15000)>"
      ]
     },
     "execution_count": 23,
     "metadata": {},
     "output_type": "execute_result"
    }
   ],
   "source": [
    "vector"
   ]
  },
  {
   "cell_type": "code",
   "execution_count": 24,
   "id": "d30e1658",
   "metadata": {
    "execution": {
     "iopub.execute_input": "2025-05-11T11:21:10.530204Z",
     "iopub.status.busy": "2025-05-11T11:21:10.529742Z",
     "iopub.status.idle": "2025-05-11T11:21:10.548387Z",
     "shell.execute_reply": "2025-05-11T11:21:10.547336Z"
    },
    "papermill": {
     "duration": 0.033598,
     "end_time": "2025-05-11T11:21:10.549951",
     "exception": false,
     "start_time": "2025-05-11T11:21:10.516353",
     "status": "completed"
    },
    "tags": []
   },
   "outputs": [
    {
     "name": "stdout",
     "output_type": "stream",
     "text": [
      "Vocabulary: ['05in' '05in divided' '05in num' ... 'zw' 'zx' 'zzzzzz']\n"
     ]
    }
   ],
   "source": [
    "# To see what words were used in the vectorizer:\n",
    "print(\"Vocabulary:\", tfidf.get_feature_names_out())"
   ]
  },
  {
   "cell_type": "code",
   "execution_count": null,
   "id": "af6bed72",
   "metadata": {
    "papermill": {
     "duration": 0.013012,
     "end_time": "2025-05-11T11:21:10.575358",
     "exception": false,
     "start_time": "2025-05-11T11:21:10.562346",
     "status": "completed"
    },
    "tags": []
   },
   "outputs": [],
   "source": []
  },
  {
   "cell_type": "code",
   "execution_count": 25,
   "id": "1bba0fa3",
   "metadata": {
    "execution": {
     "iopub.execute_input": "2025-05-11T11:21:10.601548Z",
     "iopub.status.busy": "2025-05-11T11:21:10.601240Z",
     "iopub.status.idle": "2025-05-11T11:21:10.606052Z",
     "shell.execute_reply": "2025-05-11T11:21:10.605022Z"
    },
    "papermill": {
     "duration": 0.020045,
     "end_time": "2025-05-11T11:21:10.607657",
     "exception": false,
     "start_time": "2025-05-11T11:21:10.587612",
     "status": "completed"
    },
    "tags": []
   },
   "outputs": [],
   "source": [
    "y=df['label']"
   ]
  },
  {
   "cell_type": "code",
   "execution_count": 26,
   "id": "6fd23edf",
   "metadata": {
    "execution": {
     "iopub.execute_input": "2025-05-11T11:21:10.635880Z",
     "iopub.status.busy": "2025-05-11T11:21:10.635564Z",
     "iopub.status.idle": "2025-05-11T11:21:10.763825Z",
     "shell.execute_reply": "2025-05-11T11:21:10.763024Z"
    },
    "papermill": {
     "duration": 0.145075,
     "end_time": "2025-05-11T11:21:10.765516",
     "exception": false,
     "start_time": "2025-05-11T11:21:10.620441",
     "status": "completed"
    },
    "tags": []
   },
   "outputs": [],
   "source": [
    "from sklearn.model_selection import train_test_split\n",
    "\n",
    "# Assuming X is your feature matrix (after TF-IDF) and y is your labels\n",
    "X_train, X_test, y_train, y_test = train_test_split(vector, y, test_size=0.2, random_state=42)"
   ]
  },
  {
   "cell_type": "code",
   "execution_count": 27,
   "id": "2de016ac",
   "metadata": {
    "execution": {
     "iopub.execute_input": "2025-05-11T11:21:10.791242Z",
     "iopub.status.busy": "2025-05-11T11:21:10.790927Z",
     "iopub.status.idle": "2025-05-11T11:21:16.756874Z",
     "shell.execute_reply": "2025-05-11T11:21:16.756013Z"
    },
    "papermill": {
     "duration": 5.981778,
     "end_time": "2025-05-11T11:21:16.759358",
     "exception": false,
     "start_time": "2025-05-11T11:21:10.777580",
     "status": "completed"
    },
    "tags": []
   },
   "outputs": [
    {
     "data": {
      "text/html": [
       "<style>#sk-container-id-1 {color: black;background-color: white;}#sk-container-id-1 pre{padding: 0;}#sk-container-id-1 div.sk-toggleable {background-color: white;}#sk-container-id-1 label.sk-toggleable__label {cursor: pointer;display: block;width: 100%;margin-bottom: 0;padding: 0.3em;box-sizing: border-box;text-align: center;}#sk-container-id-1 label.sk-toggleable__label-arrow:before {content: \"▸\";float: left;margin-right: 0.25em;color: #696969;}#sk-container-id-1 label.sk-toggleable__label-arrow:hover:before {color: black;}#sk-container-id-1 div.sk-estimator:hover label.sk-toggleable__label-arrow:before {color: black;}#sk-container-id-1 div.sk-toggleable__content {max-height: 0;max-width: 0;overflow: hidden;text-align: left;background-color: #f0f8ff;}#sk-container-id-1 div.sk-toggleable__content pre {margin: 0.2em;color: black;border-radius: 0.25em;background-color: #f0f8ff;}#sk-container-id-1 input.sk-toggleable__control:checked~div.sk-toggleable__content {max-height: 200px;max-width: 100%;overflow: auto;}#sk-container-id-1 input.sk-toggleable__control:checked~label.sk-toggleable__label-arrow:before {content: \"▾\";}#sk-container-id-1 div.sk-estimator input.sk-toggleable__control:checked~label.sk-toggleable__label {background-color: #d4ebff;}#sk-container-id-1 div.sk-label input.sk-toggleable__control:checked~label.sk-toggleable__label {background-color: #d4ebff;}#sk-container-id-1 input.sk-hidden--visually {border: 0;clip: rect(1px 1px 1px 1px);clip: rect(1px, 1px, 1px, 1px);height: 1px;margin: -1px;overflow: hidden;padding: 0;position: absolute;width: 1px;}#sk-container-id-1 div.sk-estimator {font-family: monospace;background-color: #f0f8ff;border: 1px dotted black;border-radius: 0.25em;box-sizing: border-box;margin-bottom: 0.5em;}#sk-container-id-1 div.sk-estimator:hover {background-color: #d4ebff;}#sk-container-id-1 div.sk-parallel-item::after {content: \"\";width: 100%;border-bottom: 1px solid gray;flex-grow: 1;}#sk-container-id-1 div.sk-label:hover label.sk-toggleable__label {background-color: #d4ebff;}#sk-container-id-1 div.sk-serial::before {content: \"\";position: absolute;border-left: 1px solid gray;box-sizing: border-box;top: 0;bottom: 0;left: 50%;z-index: 0;}#sk-container-id-1 div.sk-serial {display: flex;flex-direction: column;align-items: center;background-color: white;padding-right: 0.2em;padding-left: 0.2em;position: relative;}#sk-container-id-1 div.sk-item {position: relative;z-index: 1;}#sk-container-id-1 div.sk-parallel {display: flex;align-items: stretch;justify-content: center;background-color: white;position: relative;}#sk-container-id-1 div.sk-item::before, #sk-container-id-1 div.sk-parallel-item::before {content: \"\";position: absolute;border-left: 1px solid gray;box-sizing: border-box;top: 0;bottom: 0;left: 50%;z-index: -1;}#sk-container-id-1 div.sk-parallel-item {display: flex;flex-direction: column;z-index: 1;position: relative;background-color: white;}#sk-container-id-1 div.sk-parallel-item:first-child::after {align-self: flex-end;width: 50%;}#sk-container-id-1 div.sk-parallel-item:last-child::after {align-self: flex-start;width: 50%;}#sk-container-id-1 div.sk-parallel-item:only-child::after {width: 0;}#sk-container-id-1 div.sk-dashed-wrapped {border: 1px dashed gray;margin: 0 0.4em 0.5em 0.4em;box-sizing: border-box;padding-bottom: 0.4em;background-color: white;}#sk-container-id-1 div.sk-label label {font-family: monospace;font-weight: bold;display: inline-block;line-height: 1.2em;}#sk-container-id-1 div.sk-label-container {text-align: center;}#sk-container-id-1 div.sk-container {/* jupyter's `normalize.less` sets `[hidden] { display: none; }` but bootstrap.min.css set `[hidden] { display: none !important; }` so we also need the `!important` here to be able to override the default hidden behavior on the sphinx rendered scikit-learn.org. See: https://github.com/scikit-learn/scikit-learn/issues/21755 */display: inline-block !important;position: relative;}#sk-container-id-1 div.sk-text-repr-fallback {display: none;}</style><div id=\"sk-container-id-1\" class=\"sk-top-container\"><div class=\"sk-text-repr-fallback\"><pre>LogisticRegression(class_weight=&#x27;balanced&#x27;, max_iter=1000)</pre><b>In a Jupyter environment, please rerun this cell to show the HTML representation or trust the notebook. <br />On GitHub, the HTML representation is unable to render, please try loading this page with nbviewer.org.</b></div><div class=\"sk-container\" hidden><div class=\"sk-item\"><div class=\"sk-estimator sk-toggleable\"><input class=\"sk-toggleable__control sk-hidden--visually\" id=\"sk-estimator-id-1\" type=\"checkbox\" checked><label for=\"sk-estimator-id-1\" class=\"sk-toggleable__label sk-toggleable__label-arrow\">LogisticRegression</label><div class=\"sk-toggleable__content\"><pre>LogisticRegression(class_weight=&#x27;balanced&#x27;, max_iter=1000)</pre></div></div></div></div></div>"
      ],
      "text/plain": [
       "LogisticRegression(class_weight='balanced', max_iter=1000)"
      ]
     },
     "execution_count": 27,
     "metadata": {},
     "output_type": "execute_result"
    }
   ],
   "source": [
    "from sklearn.linear_model import LogisticRegression\n",
    "\n",
    "# Initialize the classifier\n",
    "model = LogisticRegression(max_iter=1000,class_weight='balanced')\n",
    "\n",
    "# Train the model\n",
    "model.fit(X_train, y_train)"
   ]
  },
  {
   "cell_type": "code",
   "execution_count": 28,
   "id": "dcfc0b2a",
   "metadata": {
    "execution": {
     "iopub.execute_input": "2025-05-11T11:21:16.806469Z",
     "iopub.status.busy": "2025-05-11T11:21:16.806088Z",
     "iopub.status.idle": "2025-05-11T11:21:16.834654Z",
     "shell.execute_reply": "2025-05-11T11:21:16.832212Z"
    },
    "papermill": {
     "duration": 0.054389,
     "end_time": "2025-05-11T11:21:16.836753",
     "exception": false,
     "start_time": "2025-05-11T11:21:16.782364",
     "status": "completed"
    },
    "tags": []
   },
   "outputs": [
    {
     "name": "stdout",
     "output_type": "stream",
     "text": [
      "Accuracy: 0.7326\n",
      "\n",
      "Classification Report:\n",
      "              precision    recall  f1-score   support\n",
      "\n",
      "           0       0.78      0.57      0.66       522\n",
      "           1       0.91      0.85      0.88       500\n",
      "           2       0.63      0.70      0.66       221\n",
      "           3       0.75      0.89      0.81        63\n",
      "           4       0.74      0.79      0.76       331\n",
      "           5       0.69      0.76      0.72       362\n",
      "           6       0.10      0.40      0.16        20\n",
      "           7       0.57      0.84      0.68        19\n",
      "\n",
      "    accuracy                           0.73      2038\n",
      "   macro avg       0.64      0.72      0.67      2038\n",
      "weighted avg       0.76      0.73      0.74      2038\n",
      "\n"
     ]
    }
   ],
   "source": [
    "from sklearn.metrics import accuracy_score, classification_report\n",
    "\n",
    "# Make predictions on the test set\n",
    "y_pred = model.predict(X_test)\n",
    "\n",
    "# Calculate accuracy\n",
    "accuracy = accuracy_score(y_test, y_pred)\n",
    "print(f\"Accuracy: {accuracy:.4f}\")\n",
    "\n",
    "# Get a detailed classification report\n",
    "print(\"\\nClassification Report:\")\n",
    "print(classification_report(y_test, y_pred))"
   ]
  },
  {
   "cell_type": "code",
   "execution_count": 29,
   "id": "b67115e2",
   "metadata": {
    "execution": {
     "iopub.execute_input": "2025-05-11T11:21:16.872617Z",
     "iopub.status.busy": "2025-05-11T11:21:16.872325Z",
     "iopub.status.idle": "2025-05-11T11:22:00.745794Z",
     "shell.execute_reply": "2025-05-11T11:22:00.744773Z"
    },
    "papermill": {
     "duration": 43.88942,
     "end_time": "2025-05-11T11:22:00.747729",
     "exception": false,
     "start_time": "2025-05-11T11:21:16.858309",
     "status": "completed"
    },
    "tags": []
   },
   "outputs": [],
   "source": [
    "from sklearn.svm import SVC\n",
    "# SVM Model with class weights\n",
    "svm_model = SVC(class_weight='balanced', random_state=42)\n",
    "svm_model.fit(X_train, y_train)\n",
    "\n",
    "# Make predictions\n",
    "y_pred_svm = svm_model.predict(X_test)"
   ]
  },
  {
   "cell_type": "code",
   "execution_count": 30,
   "id": "ee4b477c",
   "metadata": {
    "execution": {
     "iopub.execute_input": "2025-05-11T11:22:00.774605Z",
     "iopub.status.busy": "2025-05-11T11:22:00.774296Z",
     "iopub.status.idle": "2025-05-11T11:22:00.791588Z",
     "shell.execute_reply": "2025-05-11T11:22:00.790608Z"
    },
    "papermill": {
     "duration": 0.032152,
     "end_time": "2025-05-11T11:22:00.793233",
     "exception": false,
     "start_time": "2025-05-11T11:22:00.761081",
     "status": "completed"
    },
    "tags": []
   },
   "outputs": [
    {
     "name": "stdout",
     "output_type": "stream",
     "text": [
      "Accuracy: 0.7326\n",
      "\n",
      "Classification Report:\n",
      "              precision    recall  f1-score   support\n",
      "\n",
      "           0       0.73      0.64      0.68       522\n",
      "           1       0.92      0.83      0.87       500\n",
      "           2       0.69      0.67      0.68       221\n",
      "           3       0.94      0.70      0.80        63\n",
      "           4       0.74      0.78      0.76       331\n",
      "           5       0.65      0.78      0.71       362\n",
      "           6       0.05      0.15      0.08        20\n",
      "           7       0.75      0.63      0.69        19\n",
      "\n",
      "    accuracy                           0.74      2038\n",
      "   macro avg       0.68      0.65      0.66      2038\n",
      "weighted avg       0.76      0.74      0.74      2038\n",
      "\n"
     ]
    }
   ],
   "source": [
    "# Calculate accuracy\n",
    "accuracy_svm= accuracy_score(y_test,y_pred_svm)\n",
    "print(f\"Accuracy: {accuracy:.4f}\")\n",
    "\n",
    "# Get a detailed classification report\n",
    "print(\"\\nClassification Report:\")\n",
    "print(classification_report(y_test,y_pred_svm))"
   ]
  },
  {
   "cell_type": "code",
   "execution_count": 31,
   "id": "3ed05415",
   "metadata": {
    "execution": {
     "iopub.execute_input": "2025-05-11T11:22:00.819970Z",
     "iopub.status.busy": "2025-05-11T11:22:00.819629Z",
     "iopub.status.idle": "2025-05-11T11:22:19.282059Z",
     "shell.execute_reply": "2025-05-11T11:22:19.281002Z"
    },
    "papermill": {
     "duration": 18.478116,
     "end_time": "2025-05-11T11:22:19.284043",
     "exception": false,
     "start_time": "2025-05-11T11:22:00.805927",
     "status": "completed"
    },
    "tags": []
   },
   "outputs": [
    {
     "name": "stdout",
     "output_type": "stream",
     "text": [
      "Random Forest Results:\n",
      "Accuracy: 0.7174\n",
      "              precision    recall  f1-score   support\n",
      "\n",
      "           0       0.66      0.70      0.68       522\n",
      "           1       0.87      0.85      0.86       500\n",
      "           2       0.77      0.50      0.61       221\n",
      "           3       0.94      0.70      0.80        63\n",
      "           4       0.69      0.75      0.71       331\n",
      "           5       0.63      0.71      0.67       362\n",
      "           6       0.14      0.20      0.17        20\n",
      "           7       0.73      0.58      0.65        19\n",
      "\n",
      "    accuracy                           0.72      2038\n",
      "   macro avg       0.68      0.62      0.64      2038\n",
      "weighted avg       0.73      0.72      0.72      2038\n",
      "\n"
     ]
    }
   ],
   "source": [
    "from sklearn.ensemble import RandomForestClassifier\n",
    "\n",
    "rf_model = RandomForestClassifier(class_weight='balanced', n_estimators=100, random_state=42)\n",
    "rf_model.fit(X_train, y_train)\n",
    "y_pred_rf = rf_model.predict(X_test)\n",
    "\n",
    "print(\"Random Forest Results:\")\n",
    "accuracy_rf=accuracy_score(y_test,y_pred_rf)\n",
    "print(f\"Accuracy: {accuracy_rf:.4f}\")\n",
    "print(classification_report(y_test, y_pred_rf))"
   ]
  },
  {
   "cell_type": "code",
   "execution_count": 32,
   "id": "9143edc0",
   "metadata": {
    "execution": {
     "iopub.execute_input": "2025-05-11T11:22:19.311425Z",
     "iopub.status.busy": "2025-05-11T11:22:19.311081Z",
     "iopub.status.idle": "2025-05-11T11:23:20.153262Z",
     "shell.execute_reply": "2025-05-11T11:23:20.152670Z"
    },
    "papermill": {
     "duration": 60.869471,
     "end_time": "2025-05-11T11:23:20.167249",
     "exception": false,
     "start_time": "2025-05-11T11:22:19.297778",
     "status": "completed"
    },
    "tags": []
   },
   "outputs": [
    {
     "name": "stdout",
     "output_type": "stream",
     "text": [
      "XGBoost Results:\n",
      "Accuracy: 0.7630\n",
      "              precision    recall  f1-score   support\n",
      "\n",
      "           0       0.71      0.81      0.76       522\n",
      "           1       0.90      0.86      0.88       500\n",
      "           2       0.77      0.59      0.67       221\n",
      "           3       0.91      0.78      0.84        63\n",
      "           4       0.72      0.76      0.74       331\n",
      "           5       0.68      0.71      0.70       362\n",
      "           6       0.83      0.25      0.38        20\n",
      "           7       0.79      0.58      0.67        19\n",
      "\n",
      "    accuracy                           0.76      2038\n",
      "   macro avg       0.79      0.67      0.70      2038\n",
      "weighted avg       0.77      0.76      0.76      2038\n",
      "\n"
     ]
    }
   ],
   "source": [
    "from xgboost import XGBClassifier\n",
    "\n",
    "xgb_model = XGBClassifier(use_label_encoder=False, eval_metric='mlogloss', random_state=42)\n",
    "xgb_model.fit(X_train, y_train)\n",
    "y_pred_xgb = xgb_model.predict(X_test)\n",
    "\n",
    "print(\"XGBoost Results:\")\n",
    "accuracy_xgb=accuracy_score(y_test,y_pred_xgb)\n",
    "print(f\"Accuracy: {accuracy_xgb:.4f}\")\n",
    "print(classification_report(y_test, y_pred_xgb))"
   ]
  },
  {
   "cell_type": "code",
   "execution_count": 33,
   "id": "2b46523f",
   "metadata": {
    "execution": {
     "iopub.execute_input": "2025-05-11T11:23:20.192777Z",
     "iopub.status.busy": "2025-05-11T11:23:20.192504Z",
     "iopub.status.idle": "2025-05-11T11:23:45.454789Z",
     "shell.execute_reply": "2025-05-11T11:23:45.453882Z"
    },
    "papermill": {
     "duration": 25.27695,
     "end_time": "2025-05-11T11:23:45.456427",
     "exception": false,
     "start_time": "2025-05-11T11:23:20.179477",
     "status": "completed"
    },
    "tags": []
   },
   "outputs": [
    {
     "name": "stdout",
     "output_type": "stream",
     "text": [
      "[LightGBM] [Info] Auto-choosing row-wise multi-threading, the overhead of testing was 0.095136 seconds.\n",
      "You can set `force_row_wise=true` to remove the overhead.\n",
      "And if memory is not enough, you can set `force_col_wise=true`.\n",
      "[LightGBM] [Info] Total Bins 77921\n",
      "[LightGBM] [Info] Number of data points in the train set: 8151, number of used features: 2349\n",
      "[LightGBM] [Info] Start training from score -2.079442\n",
      "[LightGBM] [Info] Start training from score -2.079442\n",
      "[LightGBM] [Info] Start training from score -2.079442\n",
      "[LightGBM] [Info] Start training from score -2.079442\n",
      "[LightGBM] [Info] Start training from score -2.079442\n",
      "[LightGBM] [Info] Start training from score -2.079442\n",
      "[LightGBM] [Info] Start training from score -2.079442\n",
      "[LightGBM] [Info] Start training from score -2.079442\n",
      "[LightGBM] [Warning] No further splits with positive gain, best gain: -inf\n",
      "LightGBM Results:\n",
      "Accuracy: 0.7625\n",
      "              precision    recall  f1-score   support\n",
      "\n",
      "           0       0.74      0.70      0.72       522\n",
      "           1       0.89      0.87      0.88       500\n",
      "           2       0.70      0.67      0.69       221\n",
      "           3       0.82      0.84      0.83        63\n",
      "           4       0.73      0.81      0.77       331\n",
      "           5       0.72      0.74      0.73       362\n",
      "           6       0.11      0.15      0.12        20\n",
      "           7       0.77      0.53      0.62        19\n",
      "\n",
      "    accuracy                           0.76      2038\n",
      "   macro avg       0.69      0.66      0.67      2038\n",
      "weighted avg       0.77      0.76      0.76      2038\n",
      "\n"
     ]
    }
   ],
   "source": [
    "from lightgbm import LGBMClassifier\n",
    "\n",
    "lgb_model = LGBMClassifier(class_weight='balanced', random_state=42)\n",
    "lgb_model.fit(X_train, y_train)\n",
    "y_pred_lgb = lgb_model.predict(X_test)\n",
    "\n",
    "print(\"LightGBM Results:\")\n",
    "accuracy_lgb=accuracy_score(y_test,y_pred_lgb)\n",
    "print(f\"Accuracy: {accuracy_lgb:.4f}\")\n",
    "print(classification_report(y_test, y_pred_lgb))"
   ]
  },
  {
   "cell_type": "code",
   "execution_count": 34,
   "id": "998bbf2d",
   "metadata": {
    "execution": {
     "iopub.execute_input": "2025-05-11T11:23:45.483296Z",
     "iopub.status.busy": "2025-05-11T11:23:45.482621Z",
     "iopub.status.idle": "2025-05-11T11:27:53.921574Z",
     "shell.execute_reply": "2025-05-11T11:27:53.920494Z"
    },
    "papermill": {
     "duration": 248.467112,
     "end_time": "2025-05-11T11:27:53.936189",
     "exception": false,
     "start_time": "2025-05-11T11:23:45.469077",
     "status": "completed"
    },
    "tags": []
   },
   "outputs": [
    {
     "name": "stdout",
     "output_type": "stream",
     "text": [
      "CatBoost Accuracy: 0.732090284592738\n",
      "              precision    recall  f1-score   support\n",
      "\n",
      "           0       0.66      0.80      0.72       522\n",
      "           1       0.88      0.83      0.85       500\n",
      "           2       0.77      0.47      0.58       221\n",
      "           3       0.92      0.73      0.81        63\n",
      "           4       0.70      0.76      0.73       331\n",
      "           5       0.66      0.69      0.67       362\n",
      "           6       1.00      0.20      0.33        20\n",
      "           7       0.64      0.47      0.55        19\n",
      "\n",
      "    accuracy                           0.73      2038\n",
      "   macro avg       0.78      0.62      0.66      2038\n",
      "weighted avg       0.74      0.73      0.73      2038\n",
      "\n"
     ]
    }
   ],
   "source": [
    "from catboost import CatBoostClassifier\n",
    "\n",
    "\n",
    "\n",
    "cat_model = CatBoostClassifier(\n",
    "    iterations=300,\n",
    "    learning_rate=0.1,\n",
    "    depth=6,\n",
    "    loss_function='MultiClass',\n",
    "    verbose=0,\n",
    "    random_state=42\n",
    ")\n",
    "\n",
    "# Train\n",
    "cat_model.fit(X_train, y_train)\n",
    "\n",
    "# Predict\n",
    "y_pred_cat = cat_model.predict(X_test)\n",
    "\n",
    "# Evaluate\n",
    "print(\"CatBoost Accuracy:\", accuracy_score(y_test, y_pred_cat))\n",
    "print(classification_report(y_test, y_pred_cat))"
   ]
  },
  {
   "cell_type": "code",
   "execution_count": 35,
   "id": "65b90378",
   "metadata": {
    "execution": {
     "iopub.execute_input": "2025-05-11T11:27:53.964303Z",
     "iopub.status.busy": "2025-05-11T11:27:53.963940Z",
     "iopub.status.idle": "2025-05-11T11:27:53.968635Z",
     "shell.execute_reply": "2025-05-11T11:27:53.967802Z"
    },
    "papermill": {
     "duration": 0.020708,
     "end_time": "2025-05-11T11:27:53.970351",
     "exception": false,
     "start_time": "2025-05-11T11:27:53.949643",
     "status": "completed"
    },
    "tags": []
   },
   "outputs": [],
   "source": [
    "model_preds = {\n",
    "    'SVM': y_pred_svm,\n",
    "    'Logistic Regression': y_pred,\n",
    "    'Random Forest': y_pred_rf,\n",
    "    'XGBoost' : y_pred_xgb,\n",
    "    'lightbgm' : y_pred_lgb,\n",
    "    'CatBoost': y_pred_cat\n",
    "}"
   ]
  },
  {
   "cell_type": "code",
   "execution_count": 36,
   "id": "882bed81",
   "metadata": {
    "execution": {
     "iopub.execute_input": "2025-05-11T11:27:53.996834Z",
     "iopub.status.busy": "2025-05-11T11:27:53.996559Z",
     "iopub.status.idle": "2025-05-11T11:27:54.048734Z",
     "shell.execute_reply": "2025-05-11T11:27:54.047406Z"
    },
    "papermill": {
     "duration": 0.067276,
     "end_time": "2025-05-11T11:27:54.050371",
     "exception": false,
     "start_time": "2025-05-11T11:27:53.983095",
     "status": "completed"
    },
    "tags": []
   },
   "outputs": [],
   "source": [
    "# Initialize list to hold metric results\n",
    "from sklearn.metrics import accuracy_score, precision_score, recall_score, f1_score\n",
    "results = []\n",
    "for model_name, y_pred in model_preds.items():\n",
    "    acc = accuracy_score(y_test, y_pred)\n",
    "    prec = precision_score(y_test, y_pred, average='weighted', zero_division=0)\n",
    "    rec = recall_score(y_test, y_pred, average='weighted', zero_division=0)\n",
    "    f1 = f1_score(y_test, y_pred, average='weighted', zero_division=0)\n",
    "    results.append({\n",
    "        'Model': model_name,\n",
    "        'Accuracy': acc,\n",
    "        'Precision': prec,\n",
    "        'Recall': rec,\n",
    "        'F1-Score': f1\n",
    "    })"
   ]
  },
  {
   "cell_type": "code",
   "execution_count": 37,
   "id": "e08aa5a8",
   "metadata": {
    "execution": {
     "iopub.execute_input": "2025-05-11T11:27:54.076931Z",
     "iopub.status.busy": "2025-05-11T11:27:54.076000Z",
     "iopub.status.idle": "2025-05-11T11:27:54.085344Z",
     "shell.execute_reply": "2025-05-11T11:27:54.084191Z"
    },
    "papermill": {
     "duration": 0.024082,
     "end_time": "2025-05-11T11:27:54.086868",
     "exception": false,
     "start_time": "2025-05-11T11:27:54.062786",
     "status": "completed"
    },
    "tags": []
   },
   "outputs": [
    {
     "name": "stdout",
     "output_type": "stream",
     "text": [
      "Classification Metrics Comparison:\n",
      "\n",
      "                 Model  Accuracy  Precision    Recall  F1-Score\n",
      "0                  SVM  0.735525   0.757321  0.735525  0.743062\n",
      "1  Logistic Regression  0.732581   0.760426  0.732581  0.740241\n",
      "2        Random Forest  0.717370   0.727251  0.717370  0.717938\n",
      "3              XGBoost  0.763003   0.768315  0.763003  0.761576\n",
      "4             lightbgm  0.762512   0.766066  0.762512  0.763489\n",
      "5             CatBoost  0.732090   0.743380  0.732090  0.728659\n"
     ]
    }
   ],
   "source": [
    "# Create DataFrame\n",
    "df_metrics = pd.DataFrame(results)\n",
    "\n",
    "# Display table\n",
    "print(\"Classification Metrics Comparison:\\n\")\n",
    "print(df_metrics)"
   ]
  },
  {
   "cell_type": "code",
   "execution_count": 38,
   "id": "1d008f95",
   "metadata": {
    "execution": {
     "iopub.execute_input": "2025-05-11T11:27:54.114489Z",
     "iopub.status.busy": "2025-05-11T11:27:54.114128Z",
     "iopub.status.idle": "2025-05-11T11:27:54.537754Z",
     "shell.execute_reply": "2025-05-11T11:27:54.536086Z"
    },
    "papermill": {
     "duration": 0.439482,
     "end_time": "2025-05-11T11:27:54.539723",
     "exception": false,
     "start_time": "2025-05-11T11:27:54.100241",
     "status": "completed"
    },
    "tags": []
   },
   "outputs": [
    {
     "data": {
      "text/plain": [
       "<Figure size 1200x600 with 0 Axes>"
      ]
     },
     "metadata": {},
     "output_type": "display_data"
    },
    {
     "data": {
      "image/png": "[encoded data removed]",
      "text/plain": [
       "<Figure size 1200x600 with 1 Axes>"
      ]
     },
     "metadata": {},
     "output_type": "display_data"
    }
   ],
   "source": [
    "# Plot\n",
    "import matplotlib.pyplot as plt\n",
    "plt.figure(figsize=(12, 6))\n",
    "df_plot = df_metrics.set_index('Model')\n",
    "df_plot.plot(kind='bar', figsize=(12, 6), colormap='plasma')\n",
    "plt.title(\"Model Comparison: Accuracy, Precision, Recall, F1-Score\")\n",
    "plt.ylabel(\"Score\")\n",
    "plt.ylim(0.5, 1.0)\n",
    "plt.grid(True)\n",
    "plt.xticks(rotation=45)\n",
    "plt.tight_layout()\n",
    "plt.legend(loc='lower right')\n",
    "plt.show()"
   ]
  },
  {
   "cell_type": "code",
   "execution_count": 39,
   "id": "e9001752",
   "metadata": {
    "execution": {
     "iopub.execute_input": "2025-05-11T11:27:54.571491Z",
     "iopub.status.busy": "2025-05-11T11:27:54.570616Z",
     "iopub.status.idle": "2025-05-11T11:27:54.576469Z",
     "shell.execute_reply": "2025-05-11T11:27:54.575466Z"
    },
    "papermill": {
     "duration": 0.022728,
     "end_time": "2025-05-11T11:27:54.578069",
     "exception": false,
     "start_time": "2025-05-11T11:27:54.555341",
     "status": "completed"
    },
    "tags": []
   },
   "outputs": [],
   "source": [
    "#making voting classifier \n",
    "from sklearn.ensemble import VotingClassifier\n",
    "# Define base models\n",
    "xgb_base= XGBClassifier(random_state=42, use_label_encoder=False, eval_metric='mlogloss')\n",
    "lgbm_base = LGBMClassifier(random_state=42)\n",
    "lr_base = LogisticRegression(max_iter=1000, class_weight='balanced', random_state=42)\n",
    "\n",
    "# Create VotingClassifier (Soft Voting)\n",
    "voting_clf = VotingClassifier(\n",
    "    estimators=[('xgb', xgb_base), ('lgbm', lgbm_base), ('lr', lr_base)],\n",
    "    voting='soft'\n",
    ")"
   ]
  },
  {
   "cell_type": "code",
   "execution_count": 40,
   "id": "dc2ad3b0",
   "metadata": {
    "execution": {
     "iopub.execute_input": "2025-05-11T11:27:54.606590Z",
     "iopub.status.busy": "2025-05-11T11:27:54.606308Z",
     "iopub.status.idle": "2025-05-11T11:29:20.085292Z",
     "shell.execute_reply": "2025-05-11T11:29:20.083328Z"
    },
    "papermill": {
     "duration": 85.495823,
     "end_time": "2025-05-11T11:29:20.087642",
     "exception": false,
     "start_time": "2025-05-11T11:27:54.591819",
     "status": "completed"
    },
    "tags": []
   },
   "outputs": [
    {
     "name": "stdout",
     "output_type": "stream",
     "text": [
      "[LightGBM] [Info] Auto-choosing col-wise multi-threading, the overhead of testing was 0.091271 seconds.\n",
      "You can set `force_col_wise=true` to remove the overhead.\n",
      "[LightGBM] [Info] Total Bins 77921\n",
      "[LightGBM] [Info] Number of data points in the train set: 8151, number of used features: 2349\n",
      "[LightGBM] [Info] Start training from score -1.358110\n",
      "[LightGBM] [Info] Start training from score -1.435968\n",
      "[LightGBM] [Info] Start training from score -2.299034\n",
      "[LightGBM] [Info] Start training from score -3.285584\n",
      "[LightGBM] [Info] Start training from score -1.775333\n",
      "[LightGBM] [Info] Start training from score -1.716285\n",
      "[LightGBM] [Info] Start training from score -4.623869\n",
      "[LightGBM] [Info] Start training from score -4.801203\n",
      "[LightGBM] [Warning] No further splits with positive gain, best gain: -inf\n",
      "[LightGBM] [Warning] No further splits with positive gain, best gain: -inf\n"
     ]
    }
   ],
   "source": [
    "# Fit and evaluate\n",
    "voting_clf.fit(X_train, y_train)\n",
    "y_pred_vote = voting_clf.predict(X_test)"
   ]
  },
  {
   "cell_type": "code",
   "execution_count": 41,
   "id": "c24fd7e1",
   "metadata": {
    "execution": {
     "iopub.execute_input": "2025-05-11T11:29:20.117796Z",
     "iopub.status.busy": "2025-05-11T11:29:20.117479Z",
     "iopub.status.idle": "2025-05-11T11:29:20.134193Z",
     "shell.execute_reply": "2025-05-11T11:29:20.132870Z"
    },
    "papermill": {
     "duration": 0.033068,
     "end_time": "2025-05-11T11:29:20.135908",
     "exception": false,
     "start_time": "2025-05-11T11:29:20.102840",
     "status": "completed"
    },
    "tags": []
   },
   "outputs": [
    {
     "name": "stdout",
     "output_type": "stream",
     "text": [
      "Voting Classifier Metrics:\n",
      "Accuracy: 0.7826\n",
      "Precision: 0.7853\n",
      "Recall: 0.7826\n",
      "F1-Score: 0.7807\n"
     ]
    }
   ],
   "source": [
    "print(\"Voting Classifier Metrics:\")\n",
    "print(f\"Accuracy: {accuracy_score(y_test, y_pred_vote):.4f}\")\n",
    "print(f\"Precision: {precision_score(y_test, y_pred_vote, average='weighted'):.4f}\")\n",
    "print(f\"Recall: {recall_score(y_test, y_pred_vote, average='weighted'):.4f}\")\n",
    "print(f\"F1-Score: {f1_score(y_test, y_pred_vote, average='weighted'):.4f}\")"
   ]
  },
  {
   "cell_type": "code",
   "execution_count": 42,
   "id": "e0b0d28c",
   "metadata": {
    "execution": {
     "iopub.execute_input": "2025-05-11T11:29:20.166724Z",
     "iopub.status.busy": "2025-05-11T11:29:20.165963Z",
     "iopub.status.idle": "2025-05-11T11:29:20.182642Z",
     "shell.execute_reply": "2025-05-11T11:29:20.181415Z"
    },
    "papermill": {
     "duration": 0.033895,
     "end_time": "2025-05-11T11:29:20.184129",
     "exception": false,
     "start_time": "2025-05-11T11:29:20.150234",
     "status": "completed"
    },
    "tags": []
   },
   "outputs": [
    {
     "name": "stdout",
     "output_type": "stream",
     "text": [
      "Voting Classifier Accuracy: 0.7826300294406281\n",
      "              precision    recall  f1-score   support\n",
      "\n",
      "           0       0.74      0.79      0.76       522\n",
      "           1       0.90      0.87      0.89       500\n",
      "           2       0.76      0.64      0.70       221\n",
      "           3       0.90      0.84      0.87        63\n",
      "           4       0.73      0.81      0.77       331\n",
      "           5       0.74      0.74      0.74       362\n",
      "           6       0.75      0.15      0.25        20\n",
      "           7       0.81      0.68      0.74        19\n",
      "\n",
      "    accuracy                           0.78      2038\n",
      "   macro avg       0.79      0.69      0.71      2038\n",
      "weighted avg       0.79      0.78      0.78      2038\n",
      "\n"
     ]
    }
   ],
   "source": [
    "print(\"Voting Classifier Accuracy:\", accuracy_score(y_test, y_pred_vote))\n",
    "print(classification_report(y_test, y_pred_vote))"
   ]
  },
  {
   "cell_type": "code",
   "execution_count": 43,
   "id": "bdf7e0f6",
   "metadata": {
    "execution": {
     "iopub.execute_input": "2025-05-11T11:29:20.214042Z",
     "iopub.status.busy": "2025-05-11T11:29:20.213710Z",
     "iopub.status.idle": "2025-05-11T11:29:20.218470Z",
     "shell.execute_reply": "2025-05-11T11:29:20.217554Z"
    },
    "papermill": {
     "duration": 0.021393,
     "end_time": "2025-05-11T11:29:20.220248",
     "exception": false,
     "start_time": "2025-05-11T11:29:20.198855",
     "status": "completed"
    },
    "tags": []
   },
   "outputs": [],
   "source": [
    "model_preds = {\n",
    "    'SVM': y_pred_svm,\n",
    "    'Logistic Regression': y_pred,\n",
    "    'Random Forest': y_pred_rf,\n",
    "    'XGBoost' : y_pred_xgb,\n",
    "    'lightbgm' : y_pred_lgb,\n",
    "    'Voting Classifier' : y_pred_vote\n",
    "}"
   ]
  },
  {
   "cell_type": "code",
   "execution_count": 44,
   "id": "00a44d77",
   "metadata": {
    "execution": {
     "iopub.execute_input": "2025-05-11T11:29:20.251016Z",
     "iopub.status.busy": "2025-05-11T11:29:20.250706Z",
     "iopub.status.idle": "2025-05-11T11:29:20.304511Z",
     "shell.execute_reply": "2025-05-11T11:29:20.303387Z"
    },
    "papermill": {
     "duration": 0.071509,
     "end_time": "2025-05-11T11:29:20.306262",
     "exception": false,
     "start_time": "2025-05-11T11:29:20.234753",
     "status": "completed"
    },
    "tags": []
   },
   "outputs": [],
   "source": [
    "# Initialize list to hold metric results\n",
    "from sklearn.metrics import accuracy_score, precision_score, recall_score, f1_score\n",
    "results = []\n",
    "for model_name, y_pred in model_preds.items():\n",
    "    acc = accuracy_score(y_test, y_pred)\n",
    "    prec = precision_score(y_test, y_pred,average='micro')\n",
    "    rec = recall_score(y_test, y_pred,average='micro' )\n",
    "    f1 = f1_score(y_test, y_pred,average='micro' )\n",
    "    results.append({\n",
    "        'Model': model_name,\n",
    "        'Accuracy': acc,\n",
    "        'Precision': prec,\n",
    "        'Recall': rec,\n",
    "        'F1-Score': f1\n",
    "    })"
   ]
  },
  {
   "cell_type": "code",
   "execution_count": 45,
   "id": "83aa4896",
   "metadata": {
    "execution": {
     "iopub.execute_input": "2025-05-11T11:29:20.335953Z",
     "iopub.status.busy": "2025-05-11T11:29:20.335467Z",
     "iopub.status.idle": "2025-05-11T11:29:20.344578Z",
     "shell.execute_reply": "2025-05-11T11:29:20.343530Z"
    },
    "papermill": {
     "duration": 0.025361,
     "end_time": "2025-05-11T11:29:20.345990",
     "exception": false,
     "start_time": "2025-05-11T11:29:20.320629",
     "status": "completed"
    },
    "tags": []
   },
   "outputs": [
    {
     "name": "stdout",
     "output_type": "stream",
     "text": [
      "Classification Metrics Comparison:\n",
      "\n",
      "                 Model  Accuracy  Precision    Recall  F1-Score\n",
      "0                  SVM  0.735525   0.735525  0.735525  0.735525\n",
      "1  Logistic Regression  0.732090   0.732090  0.732090  0.732090\n",
      "2        Random Forest  0.717370   0.717370  0.717370  0.717370\n",
      "3              XGBoost  0.763003   0.763003  0.763003  0.763003\n",
      "4             lightbgm  0.762512   0.762512  0.762512  0.762512\n",
      "5    Voting Classifier  0.782630   0.782630  0.782630  0.782630\n"
     ]
    }
   ],
   "source": [
    "# Create DataFrame\n",
    "df_metrics = pd.DataFrame(results)\n",
    "\n",
    "# Display table\n",
    "print(\"Classification Metrics Comparison:\\n\")\n",
    "print(df_metrics)"
   ]
  },
  {
   "cell_type": "code",
   "execution_count": 46,
   "id": "bf95a0a2",
   "metadata": {
    "execution": {
     "iopub.execute_input": "2025-05-11T11:29:20.376236Z",
     "iopub.status.busy": "2025-05-11T11:29:20.375852Z",
     "iopub.status.idle": "2025-05-11T11:29:20.691870Z",
     "shell.execute_reply": "2025-05-11T11:29:20.690510Z"
    },
    "papermill": {
     "duration": 0.333144,
     "end_time": "2025-05-11T11:29:20.693862",
     "exception": false,
     "start_time": "2025-05-11T11:29:20.360718",
     "status": "completed"
    },
    "tags": []
   },
   "outputs": [
    {
     "data": {
      "text/plain": [
       "<Figure size 1200x600 with 0 Axes>"
      ]
     },
     "metadata": {},
     "output_type": "display_data"
    },
    {
     "data": {
      "image/png": "[encoded data removed]",
      "text/plain": [
       "<Figure size 1200x600 with 1 Axes>"
      ]
     },
     "metadata": {},
     "output_type": "display_data"
    }
   ],
   "source": [
    "# Plot\n",
    "import matplotlib.pyplot as plt\n",
    "plt.figure(figsize=(12, 6))\n",
    "df_plot = df_metrics.set_index('Model')\n",
    "df_plot.plot(kind='bar', figsize=(12, 6), colormap='plasma')\n",
    "plt.title(\"Model Comparison: Accuracy, Precision, Recall, F1-Score\")\n",
    "plt.ylabel(\"Score\")\n",
    "plt.ylim(0.5, 1.0)\n",
    "plt.grid(True)\n",
    "plt.xticks(rotation=45)\n",
    "plt.tight_layout()\n",
    "plt.legend(loc='lower right')\n",
    "plt.show()"
   ]
  },
  {
   "cell_type": "code",
   "execution_count": 47,
   "id": "110c946c",
   "metadata": {
    "execution": {
     "iopub.execute_input": "2025-05-11T11:29:20.726249Z",
     "iopub.status.busy": "2025-05-11T11:29:20.725896Z",
     "iopub.status.idle": "2025-05-11T11:29:20.731212Z",
     "shell.execute_reply": "2025-05-11T11:29:20.730325Z"
    },
    "papermill": {
     "duration": 0.023397,
     "end_time": "2025-05-11T11:29:20.732825",
     "exception": false,
     "start_time": "2025-05-11T11:29:20.709428",
     "status": "completed"
    },
    "tags": []
   },
   "outputs": [],
   "source": [
    "from sklearn.ensemble import StackingClassifier\n",
    "# Define base models\n",
    "base_learners = [\n",
    "    ('svm', SVC(probability=True, random_state=42)),\n",
    "    ('xgb', XGBClassifier(random_state=42)),\n",
    "    ('lgb', LGBMClassifier(random_state=42))\n",
    "]\n",
    "# Define meta-model (Logistic Regression as a simple example)\n",
    "meta_model = LogisticRegression()\n",
    "# Create the Stacking Classifier\n",
    "stacking_model = StackingClassifier(estimators=base_learners, final_estimator=meta_model)"
   ]
  },
  {
   "cell_type": "code",
   "execution_count": 48,
   "id": "a43314dc",
   "metadata": {
    "execution": {
     "iopub.execute_input": "2025-05-11T11:29:20.765936Z",
     "iopub.status.busy": "2025-05-11T11:29:20.765634Z",
     "iopub.status.idle": "2025-05-11T11:51:30.593739Z",
     "shell.execute_reply": "2025-05-11T11:51:30.592952Z"
    },
    "papermill": {
     "duration": 1329.846883,
     "end_time": "2025-05-11T11:51:30.595660",
     "exception": false,
     "start_time": "2025-05-11T11:29:20.748777",
     "status": "completed"
    },
    "tags": []
   },
   "outputs": [
    {
     "name": "stdout",
     "output_type": "stream",
     "text": [
      "[LightGBM] [Info] Auto-choosing col-wise multi-threading, the overhead of testing was 0.110055 seconds.\n",
      "You can set `force_col_wise=true` to remove the overhead.\n",
      "[LightGBM] [Info] Total Bins 77921\n",
      "[LightGBM] [Info] Number of data points in the train set: 8151, number of used features: 2349\n",
      "[LightGBM] [Info] Start training from score -1.358110\n",
      "[LightGBM] [Info] Start training from score -1.435968\n",
      "[LightGBM] [Info] Start training from score -2.299034\n",
      "[LightGBM] [Info] Start training from score -3.285584\n",
      "[LightGBM] [Info] Start training from score -1.775333\n",
      "[LightGBM] [Info] Start training from score -1.716285\n",
      "[LightGBM] [Info] Start training from score -4.623869\n",
      "[LightGBM] [Info] Start training from score -4.801203\n",
      "[LightGBM] [Warning] No further splits with positive gain, best gain: -inf\n",
      "[LightGBM] [Warning] No further splits with positive gain, best gain: -inf\n",
      "[LightGBM] [Info] Auto-choosing row-wise multi-threading, the overhead of testing was 0.067113 seconds.\n",
      "You can set `force_row_wise=true` to remove the overhead.\n",
      "And if memory is not enough, you can set `force_col_wise=true`.\n",
      "[LightGBM] [Info] Total Bins 62735\n",
      "[LightGBM] [Info] Number of data points in the train set: 6520, number of used features: 1935\n",
      "[LightGBM] [Info] Start training from score -1.358464\n",
      "[LightGBM] [Info] Start training from score -1.435974\n",
      "[LightGBM] [Info] Start training from score -2.297994\n",
      "[LightGBM] [Info] Start training from score -3.285461\n",
      "[LightGBM] [Info] Start training from score -1.775029\n",
      "[LightGBM] [Info] Start training from score -1.716163\n",
      "[LightGBM] [Info] Start training from score -4.623747\n",
      "[LightGBM] [Info] Start training from score -4.812338\n",
      "[LightGBM] [Warning] No further splits with positive gain, best gain: -inf\n",
      "[LightGBM] [Warning] No further splits with positive gain, best gain: -inf\n",
      "[LightGBM] [Warning] No further splits with positive gain, best gain: -inf\n",
      "[LightGBM] [Warning] No further splits with positive gain, best gain: -inf\n",
      "[LightGBM] [Warning] No further splits with positive gain, best gain: -inf\n",
      "[LightGBM] [Warning] No further splits with positive gain, best gain: -inf\n",
      "[LightGBM] [Warning] No further splits with positive gain, best gain: -inf\n",
      "[LightGBM] [Warning] No further splits with positive gain, best gain: -inf\n",
      "[LightGBM] [Info] Auto-choosing row-wise multi-threading, the overhead of testing was 0.069541 seconds.\n",
      "You can set `force_row_wise=true` to remove the overhead.\n",
      "And if memory is not enough, you can set `force_col_wise=true`.\n",
      "[LightGBM] [Info] Total Bins 62578\n",
      "[LightGBM] [Info] Number of data points in the train set: 6521, number of used features: 1895\n",
      "[LightGBM] [Info] Start training from score -1.358021\n",
      "[LightGBM] [Info] Start training from score -1.436128\n",
      "[LightGBM] [Info] Start training from score -2.299676\n",
      "[LightGBM] [Info] Start training from score -3.285615\n",
      "[LightGBM] [Info] Start training from score -1.775182\n",
      "[LightGBM] [Info] Start training from score -1.716316\n",
      "[LightGBM] [Info] Start training from score -4.623900\n",
      "[LightGBM] [Info] Start training from score -4.793799\n",
      "[LightGBM] [Warning] No further splits with positive gain, best gain: -inf\n",
      "[LightGBM] [Warning] No further splits with positive gain, best gain: -inf\n",
      "[LightGBM] [Warning] No further splits with positive gain, best gain: -inf\n",
      "[LightGBM] [Warning] No further splits with positive gain, best gain: -inf\n",
      "[LightGBM] [Warning] No further splits with positive gain, best gain: -inf\n",
      "[LightGBM] [Warning] No further splits with positive gain, best gain: -inf\n",
      "[LightGBM] [Warning] No further splits with positive gain, best gain: -inf\n",
      "[LightGBM] [Info] Auto-choosing row-wise multi-threading, the overhead of testing was 0.067196 seconds.\n",
      "You can set `force_row_wise=true` to remove the overhead.\n",
      "And if memory is not enough, you can set `force_col_wise=true`.\n",
      "[LightGBM] [Info] Total Bins 62900\n",
      "[LightGBM] [Info] Number of data points in the train set: 6521, number of used features: 1911\n",
      "[LightGBM] [Info] Start training from score -1.358021\n",
      "[LightGBM] [Info] Start training from score -1.436128\n",
      "[LightGBM] [Info] Start training from score -2.299676\n",
      "[LightGBM] [Info] Start training from score -3.285615\n",
      "[LightGBM] [Info] Start training from score -1.775182\n",
      "[LightGBM] [Info] Start training from score -1.716316\n",
      "[LightGBM] [Info] Start training from score -4.623900\n",
      "[LightGBM] [Info] Start training from score -4.793799\n",
      "[LightGBM] [Warning] No further splits with positive gain, best gain: -inf\n",
      "[LightGBM] [Warning] No further splits with positive gain, best gain: -inf\n",
      "[LightGBM] [Warning] No further splits with positive gain, best gain: -inf\n",
      "[LightGBM] [Warning] No further splits with positive gain, best gain: -inf\n",
      "[LightGBM] [Warning] No further splits with positive gain, best gain: -inf\n",
      "[LightGBM] [Warning] No further splits with positive gain, best gain: -inf\n",
      "[LightGBM] [Warning] No further splits with positive gain, best gain: -inf\n",
      "[LightGBM] [Warning] No further splits with positive gain, best gain: -inf\n",
      "[LightGBM] [Info] Auto-choosing row-wise multi-threading, the overhead of testing was 0.068036 seconds.\n",
      "You can set `force_row_wise=true` to remove the overhead.\n",
      "And if memory is not enough, you can set `force_col_wise=true`.\n",
      "[LightGBM] [Info] Total Bins 62651\n",
      "[LightGBM] [Info] Number of data points in the train set: 6521, number of used features: 1908\n",
      "[LightGBM] [Info] Start training from score -1.358021\n",
      "[LightGBM] [Info] Start training from score -1.435483\n",
      "[LightGBM] [Info] Start training from score -2.299676\n",
      "[LightGBM] [Info] Start training from score -3.285615\n",
      "[LightGBM] [Info] Start training from score -1.776088\n",
      "[LightGBM] [Info] Start training from score -1.716316\n",
      "[LightGBM] [Info] Start training from score -4.623900\n",
      "[LightGBM] [Info] Start training from score -4.793799\n",
      "[LightGBM] [Warning] No further splits with positive gain, best gain: -inf\n",
      "[LightGBM] [Warning] No further splits with positive gain, best gain: -inf\n",
      "[LightGBM] [Warning] No further splits with positive gain, best gain: -inf\n",
      "[LightGBM] [Warning] No further splits with positive gain, best gain: -inf\n",
      "[LightGBM] [Warning] No further splits with positive gain, best gain: -inf\n",
      "[LightGBM] [Warning] No further splits with positive gain, best gain: -inf\n",
      "[LightGBM] [Info] Auto-choosing row-wise multi-threading, the overhead of testing was 0.067899 seconds.\n",
      "You can set `force_row_wise=true` to remove the overhead.\n",
      "And if memory is not enough, you can set `force_col_wise=true`.\n",
      "[LightGBM] [Info] Total Bins 62939\n",
      "[LightGBM] [Info] Number of data points in the train set: 6521, number of used features: 1919\n",
      "[LightGBM] [Info] Start training from score -1.358021\n",
      "[LightGBM] [Info] Start training from score -1.436128\n",
      "[LightGBM] [Info] Start training from score -2.298148\n",
      "[LightGBM] [Info] Start training from score -3.285615\n",
      "[LightGBM] [Info] Start training from score -1.775182\n",
      "[LightGBM] [Info] Start training from score -1.716316\n",
      "[LightGBM] [Info] Start training from score -4.623900\n",
      "[LightGBM] [Info] Start training from score -4.812491\n",
      "[LightGBM] [Warning] No further splits with positive gain, best gain: -inf\n",
      "[LightGBM] [Warning] No further splits with positive gain, best gain: -inf\n",
      "[LightGBM] [Warning] No further splits with positive gain, best gain: -inf\n",
      "[LightGBM] [Warning] No further splits with positive gain, best gain: -inf\n",
      "[LightGBM] [Warning] No further splits with positive gain, best gain: -inf\n",
      "[LightGBM] [Warning] No further splits with positive gain, best gain: -inf\n",
      "[LightGBM] [Warning] No further splits with positive gain, best gain: -inf\n",
      "[LightGBM] [Warning] No further splits with positive gain, best gain: -inf\n",
      "[LightGBM] [Warning] No further splits with positive gain, best gain: -inf\n",
      "[LightGBM] [Warning] No further splits with positive gain, best gain: -inf\n",
      "[LightGBM] [Warning] No further splits with positive gain, best gain: -inf\n",
      "[LightGBM] [Warning] No further splits with positive gain, best gain: -inf\n"
     ]
    },
    {
     "name": "stderr",
     "output_type": "stream",
     "text": [
      "/usr/local/lib/python3.11/dist-packages/sklearn/linear_model/_logistic.py:458: ConvergenceWarning: lbfgs failed to converge (status=1):\n",
      "STOP: TOTAL NO. OF ITERATIONS REACHED LIMIT.\n",
      "\n",
      "Increase the number of iterations (max_iter) or scale the data as shown in:\n",
      "    https://scikit-learn.org/stable/modules/preprocessing.html\n",
      "Please also refer to the documentation for alternative solver options:\n",
      "    https://scikit-learn.org/stable/modules/linear_model.html#logistic-regression\n",
      "  n_iter_i = _check_optimize_result(\n"
     ]
    },
    {
     "data": {
      "text/html": [
       "<style>#sk-container-id-2 {color: black;background-color: white;}#sk-container-id-2 pre{padding: 0;}#sk-container-id-2 div.sk-toggleable {background-color: white;}#sk-container-id-2 label.sk-toggleable__label {cursor: pointer;display: block;width: 100%;margin-bottom: 0;padding: 0.3em;box-sizing: border-box;text-align: center;}#sk-container-id-2 label.sk-toggleable__label-arrow:before {content: \"▸\";float: left;margin-right: 0.25em;color: #696969;}#sk-container-id-2 label.sk-toggleable__label-arrow:hover:before {color: black;}#sk-container-id-2 div.sk-estimator:hover label.sk-toggleable__label-arrow:before {color: black;}#sk-container-id-2 div.sk-toggleable__content {max-height: 0;max-width: 0;overflow: hidden;text-align: left;background-color: #f0f8ff;}#sk-container-id-2 div.sk-toggleable__content pre {margin: 0.2em;color: black;border-radius: 0.25em;background-color: #f0f8ff;}#sk-container-id-2 input.sk-toggleable__control:checked~div.sk-toggleable__content {max-height: 200px;max-width: 100%;overflow: auto;}#sk-container-id-2 input.sk-toggleable__control:checked~label.sk-toggleable__label-arrow:before {content: \"▾\";}#sk-container-id-2 div.sk-estimator input.sk-toggleable__control:checked~label.sk-toggleable__label {background-color: #d4ebff;}#sk-container-id-2 div.sk-label input.sk-toggleable__control:checked~label.sk-toggleable__label {background-color: #d4ebff;}#sk-container-id-2 input.sk-hidden--visually {border: 0;clip: rect(1px 1px 1px 1px);clip: rect(1px, 1px, 1px, 1px);height: 1px;margin: -1px;overflow: hidden;padding: 0;position: absolute;width: 1px;}#sk-container-id-2 div.sk-estimator {font-family: monospace;background-color: #f0f8ff;border: 1px dotted black;border-radius: 0.25em;box-sizing: border-box;margin-bottom: 0.5em;}#sk-container-id-2 div.sk-estimator:hover {background-color: #d4ebff;}#sk-container-id-2 div.sk-parallel-item::after {content: \"\";width: 100%;border-bottom: 1px solid gray;flex-grow: 1;}#sk-container-id-2 div.sk-label:hover label.sk-toggleable__label {background-color: #d4ebff;}#sk-container-id-2 div.sk-serial::before {content: \"\";position: absolute;border-left: 1px solid gray;box-sizing: border-box;top: 0;bottom: 0;left: 50%;z-index: 0;}#sk-container-id-2 div.sk-serial {display: flex;flex-direction: column;align-items: center;background-color: white;padding-right: 0.2em;padding-left: 0.2em;position: relative;}#sk-container-id-2 div.sk-item {position: relative;z-index: 1;}#sk-container-id-2 div.sk-parallel {display: flex;align-items: stretch;justify-content: center;background-color: white;position: relative;}#sk-container-id-2 div.sk-item::before, #sk-container-id-2 div.sk-parallel-item::before {content: \"\";position: absolute;border-left: 1px solid gray;box-sizing: border-box;top: 0;bottom: 0;left: 50%;z-index: -1;}#sk-container-id-2 div.sk-parallel-item {display: flex;flex-direction: column;z-index: 1;position: relative;background-color: white;}#sk-container-id-2 div.sk-parallel-item:first-child::after {align-self: flex-end;width: 50%;}#sk-container-id-2 div.sk-parallel-item:last-child::after {align-self: flex-start;width: 50%;}#sk-container-id-2 div.sk-parallel-item:only-child::after {width: 0;}#sk-container-id-2 div.sk-dashed-wrapped {border: 1px dashed gray;margin: 0 0.4em 0.5em 0.4em;box-sizing: border-box;padding-bottom: 0.4em;background-color: white;}#sk-container-id-2 div.sk-label label {font-family: monospace;font-weight: bold;display: inline-block;line-height: 1.2em;}#sk-container-id-2 div.sk-label-container {text-align: center;}#sk-container-id-2 div.sk-container {/* jupyter's `normalize.less` sets `[hidden] { display: none; }` but bootstrap.min.css set `[hidden] { display: none !important; }` so we also need the `!important` here to be able to override the default hidden behavior on the sphinx rendered scikit-learn.org. See: https://github.com/scikit-learn/scikit-learn/issues/21755 */display: inline-block !important;position: relative;}#sk-container-id-2 div.sk-text-repr-fallback {display: none;}</style><div id=\"sk-container-id-2\" class=\"sk-top-container\"><div class=\"sk-text-repr-fallback\"><pre>StackingClassifier(estimators=[(&#x27;svm&#x27;, SVC(probability=True, random_state=42)),\n",
       "                               (&#x27;xgb&#x27;,\n",
       "                                XGBClassifier(base_score=None, booster=None,\n",
       "                                              callbacks=None,\n",
       "                                              colsample_bylevel=None,\n",
       "                                              colsample_bynode=None,\n",
       "                                              colsample_bytree=None,\n",
       "                                              device=None,\n",
       "                                              early_stopping_rounds=None,\n",
       "                                              enable_categorical=False,\n",
       "                                              eval_metric=None,\n",
       "                                              feature_types=None, gamma=None,\n",
       "                                              grow_policy=None,\n",
       "                                              importance_ty...\n",
       "                                              learning_rate=None, max_bin=None,\n",
       "                                              max_cat_threshold=None,\n",
       "                                              max_cat_to_onehot=None,\n",
       "                                              max_delta_step=None,\n",
       "                                              max_depth=None, max_leaves=None,\n",
       "                                              min_child_weight=None,\n",
       "                                              missing=nan,\n",
       "                                              monotone_constraints=None,\n",
       "                                              multi_strategy=None,\n",
       "                                              n_estimators=None, n_jobs=None,\n",
       "                                              num_parallel_tree=None,\n",
       "                                              random_state=42, ...)),\n",
       "                               (&#x27;lgb&#x27;, LGBMClassifier(random_state=42))],\n",
       "                   final_estimator=LogisticRegression())</pre><b>In a Jupyter environment, please rerun this cell to show the HTML representation or trust the notebook. <br />On GitHub, the HTML representation is unable to render, please try loading this page with nbviewer.org.</b></div><div class=\"sk-container\" hidden><div class=\"sk-item sk-dashed-wrapped\"><div class=\"sk-label-container\"><div class=\"sk-label sk-toggleable\"><input class=\"sk-toggleable__control sk-hidden--visually\" id=\"sk-estimator-id-2\" type=\"checkbox\" ><label for=\"sk-estimator-id-2\" class=\"sk-toggleable__label sk-toggleable__label-arrow\">StackingClassifier</label><div class=\"sk-toggleable__content\"><pre>StackingClassifier(estimators=[(&#x27;svm&#x27;, SVC(probability=True, random_state=42)),\n",
       "                               (&#x27;xgb&#x27;,\n",
       "                                XGBClassifier(base_score=None, booster=None,\n",
       "                                              callbacks=None,\n",
       "                                              colsample_bylevel=None,\n",
       "                                              colsample_bynode=None,\n",
       "                                              colsample_bytree=None,\n",
       "                                              device=None,\n",
       "                                              early_stopping_rounds=None,\n",
       "                                              enable_categorical=False,\n",
       "                                              eval_metric=None,\n",
       "                                              feature_types=None, gamma=None,\n",
       "                                              grow_policy=None,\n",
       "                                              importance_ty...\n",
       "                                              learning_rate=None, max_bin=None,\n",
       "                                              max_cat_threshold=None,\n",
       "                                              max_cat_to_onehot=None,\n",
       "                                              max_delta_step=None,\n",
       "                                              max_depth=None, max_leaves=None,\n",
       "                                              min_child_weight=None,\n",
       "                                              missing=nan,\n",
       "                                              monotone_constraints=None,\n",
       "                                              multi_strategy=None,\n",
       "                                              n_estimators=None, n_jobs=None,\n",
       "                                              num_parallel_tree=None,\n",
       "                                              random_state=42, ...)),\n",
       "                               (&#x27;lgb&#x27;, LGBMClassifier(random_state=42))],\n",
       "                   final_estimator=LogisticRegression())</pre></div></div></div><div class=\"sk-serial\"><div class=\"sk-item\"><div class=\"sk-parallel\"><div class=\"sk-parallel-item\"><div class=\"sk-item\"><div class=\"sk-label-container\"><div class=\"sk-label sk-toggleable\"><label>svm</label></div></div><div class=\"sk-serial\"><div class=\"sk-item\"><div class=\"sk-estimator sk-toggleable\"><input class=\"sk-toggleable__control sk-hidden--visually\" id=\"sk-estimator-id-3\" type=\"checkbox\" ><label for=\"sk-estimator-id-3\" class=\"sk-toggleable__label sk-toggleable__label-arrow\">SVC</label><div class=\"sk-toggleable__content\"><pre>SVC(probability=True, random_state=42)</pre></div></div></div></div></div></div><div class=\"sk-parallel-item\"><div class=\"sk-item\"><div class=\"sk-label-container\"><div class=\"sk-label sk-toggleable\"><label>xgb</label></div></div><div class=\"sk-serial\"><div class=\"sk-item\"><div class=\"sk-estimator sk-toggleable\"><input class=\"sk-toggleable__control sk-hidden--visually\" id=\"sk-estimator-id-4\" type=\"checkbox\" ><label for=\"sk-estimator-id-4\" class=\"sk-toggleable__label sk-toggleable__label-arrow\">XGBClassifier</label><div class=\"sk-toggleable__content\"><pre>XGBClassifier(base_score=None, booster=None, callbacks=None,\n",
       "              colsample_bylevel=None, colsample_bynode=None,\n",
       "              colsample_bytree=None, device=None, early_stopping_rounds=None,\n",
       "              enable_categorical=False, eval_metric=None, feature_types=None,\n",
       "              gamma=None, grow_policy=None, importance_type=None,\n",
       "              interaction_constraints=None, learning_rate=None, max_bin=None,\n",
       "              max_cat_threshold=None, max_cat_to_onehot=None,\n",
       "              max_delta_step=None, max_depth=None, max_leaves=None,\n",
       "              min_child_weight=None, missing=nan, monotone_constraints=None,\n",
       "              multi_strategy=None, n_estimators=None, n_jobs=None,\n",
       "              num_parallel_tree=None, random_state=42, ...)</pre></div></div></div></div></div></div><div class=\"sk-parallel-item\"><div class=\"sk-item\"><div class=\"sk-label-container\"><div class=\"sk-label sk-toggleable\"><label>lgb</label></div></div><div class=\"sk-serial\"><div class=\"sk-item\"><div class=\"sk-estimator sk-toggleable\"><input class=\"sk-toggleable__control sk-hidden--visually\" id=\"sk-estimator-id-5\" type=\"checkbox\" ><label for=\"sk-estimator-id-5\" class=\"sk-toggleable__label sk-toggleable__label-arrow\">LGBMClassifier</label><div class=\"sk-toggleable__content\"><pre>LGBMClassifier(random_state=42)</pre></div></div></div></div></div></div></div></div><div class=\"sk-item\"><div class=\"sk-parallel\"><div class=\"sk-parallel-item\"><div class=\"sk-item\"><div class=\"sk-label-container\"><div class=\"sk-label sk-toggleable\"><label>final_estimator</label></div></div><div class=\"sk-serial\"><div class=\"sk-item\"><div class=\"sk-estimator sk-toggleable\"><input class=\"sk-toggleable__control sk-hidden--visually\" id=\"sk-estimator-id-6\" type=\"checkbox\" ><label for=\"sk-estimator-id-6\" class=\"sk-toggleable__label sk-toggleable__label-arrow\">LogisticRegression</label><div class=\"sk-toggleable__content\"><pre>LogisticRegression()</pre></div></div></div></div></div></div></div></div></div></div></div></div>"
      ],
      "text/plain": [
       "StackingClassifier(estimators=[('svm', SVC(probability=True, random_state=42)),\n",
       "                               ('xgb',\n",
       "                                XGBClassifier(base_score=None, booster=None,\n",
       "                                              callbacks=None,\n",
       "                                              colsample_bylevel=None,\n",
       "                                              colsample_bynode=None,\n",
       "                                              colsample_bytree=None,\n",
       "                                              device=None,\n",
       "                                              early_stopping_rounds=None,\n",
       "                                              enable_categorical=False,\n",
       "                                              eval_metric=None,\n",
       "                                              feature_types=None, gamma=None,\n",
       "                                              grow_policy=None,\n",
       "                                              importance_ty...\n",
       "                                              learning_rate=None, max_bin=None,\n",
       "                                              max_cat_threshold=None,\n",
       "                                              max_cat_to_onehot=None,\n",
       "                                              max_delta_step=None,\n",
       "                                              max_depth=None, max_leaves=None,\n",
       "                                              min_child_weight=None,\n",
       "                                              missing=nan,\n",
       "                                              monotone_constraints=None,\n",
       "                                              multi_strategy=None,\n",
       "                                              n_estimators=None, n_jobs=None,\n",
       "                                              num_parallel_tree=None,\n",
       "                                              random_state=42, ...)),\n",
       "                               ('lgb', LGBMClassifier(random_state=42))],\n",
       "                   final_estimator=LogisticRegression())"
      ]
     },
     "execution_count": 48,
     "metadata": {},
     "output_type": "execute_result"
    }
   ],
   "source": [
    "# Train the model\n",
    "stacking_model.fit(X_train, y_train)"
   ]
  },
  {
   "cell_type": "code",
   "execution_count": 49,
   "id": "d762b187",
   "metadata": {
    "execution": {
     "iopub.execute_input": "2025-05-11T11:51:30.655977Z",
     "iopub.status.busy": "2025-05-11T11:51:30.655627Z",
     "iopub.status.idle": "2025-05-11T11:51:36.983833Z",
     "shell.execute_reply": "2025-05-11T11:51:36.982947Z"
    },
    "papermill": {
     "duration": 6.360639,
     "end_time": "2025-05-11T11:51:36.985456",
     "exception": false,
     "start_time": "2025-05-11T11:51:30.624817",
     "status": "completed"
    },
    "tags": []
   },
   "outputs": [],
   "source": [
    "# Predict and evaluate\n",
    "y_pred_stack = stacking_model.predict(X_test)"
   ]
  },
  {
   "cell_type": "code",
   "execution_count": 50,
   "id": "1fb1efdc",
   "metadata": {
    "execution": {
     "iopub.execute_input": "2025-05-11T11:51:37.021075Z",
     "iopub.status.busy": "2025-05-11T11:51:37.020767Z",
     "iopub.status.idle": "2025-05-11T11:51:37.037947Z",
     "shell.execute_reply": "2025-05-11T11:51:37.036891Z"
    },
    "papermill": {
     "duration": 0.037243,
     "end_time": "2025-05-11T11:51:37.039559",
     "exception": false,
     "start_time": "2025-05-11T11:51:37.002316",
     "status": "completed"
    },
    "tags": []
   },
   "outputs": [
    {
     "name": "stdout",
     "output_type": "stream",
     "text": [
      "Stacking Classifier Metrics:\n",
      "Accuracy: 0.7821\n",
      "Precision (Micro): 0.7821\n",
      "Recall (Micro): 0.7821\n",
      "F1-Score (Micro): 0.7821\n"
     ]
    }
   ],
   "source": [
    "# Calculate micro-averaged metrics\n",
    "accuracy = accuracy_score(y_test, y_pred_stack)\n",
    "precision_micro = precision_score(y_test, y_pred_stack, average='micro')\n",
    "recall_micro = recall_score(y_test, y_pred_stack, average='micro')\n",
    "f1_micro = f1_score(y_test, y_pred_stack, average='micro')\n",
    "\n",
    "print(\"Stacking Classifier Metrics:\")\n",
    "print(f\"Accuracy: {accuracy:.4f}\")\n",
    "print(f\"Precision (Micro): {precision_micro:.4f}\")\n",
    "print(f\"Recall (Micro): {recall_micro:.4f}\")\n",
    "print(f\"F1-Score (Micro): {f1_micro:.4f}\")"
   ]
  },
  {
   "cell_type": "code",
   "execution_count": 51,
   "id": "9d3ba2a8",
   "metadata": {
    "execution": {
     "iopub.execute_input": "2025-05-11T11:51:37.075027Z",
     "iopub.status.busy": "2025-05-11T11:51:37.074214Z",
     "iopub.status.idle": "2025-05-11T11:51:37.079061Z",
     "shell.execute_reply": "2025-05-11T11:51:37.078117Z"
    },
    "papermill": {
     "duration": 0.024023,
     "end_time": "2025-05-11T11:51:37.080671",
     "exception": false,
     "start_time": "2025-05-11T11:51:37.056648",
     "status": "completed"
    },
    "tags": []
   },
   "outputs": [],
   "source": [
    "model_preds = {\n",
    "    'SVM': y_pred_svm,\n",
    "    'Logistic Regression': y_pred,\n",
    "    'Random Forest': y_pred_rf,\n",
    "    'XGBoost' : y_pred_xgb,\n",
    "    'lightbgm' : y_pred_lgb,\n",
    "    'Voting Classifier' : y_pred_vote,\n",
    "    'Stacking Classifier':y_pred_stack\n",
    "}"
   ]
  },
  {
   "cell_type": "code",
   "execution_count": 52,
   "id": "098c3f93",
   "metadata": {
    "execution": {
     "iopub.execute_input": "2025-05-11T11:51:37.116593Z",
     "iopub.status.busy": "2025-05-11T11:51:37.116294Z",
     "iopub.status.idle": "2025-05-11T11:51:37.174135Z",
     "shell.execute_reply": "2025-05-11T11:51:37.173366Z"
    },
    "papermill": {
     "duration": 0.07737,
     "end_time": "2025-05-11T11:51:37.175726",
     "exception": false,
     "start_time": "2025-05-11T11:51:37.098356",
     "status": "completed"
    },
    "tags": []
   },
   "outputs": [],
   "source": [
    "# Initialize list to hold metric results\n",
    "from sklearn.metrics import accuracy_score, precision_score, recall_score, f1_score\n",
    "results = []\n",
    "for model_name, y_pred in model_preds.items():\n",
    "    acc = accuracy_score(y_test, y_pred)\n",
    "    prec = precision_score(y_test, y_pred,average='micro')\n",
    "    rec = recall_score(y_test, y_pred,average='micro' )\n",
    "    f1 = f1_score(y_test, y_pred,average='micro' )\n",
    "    results.append({\n",
    "        'Model': model_name,\n",
    "        'Accuracy': acc,\n",
    "        'Precision': prec,\n",
    "        'Recall': rec,\n",
    "        'F1-Score': f1\n",
    "    })"
   ]
  },
  {
   "cell_type": "code",
   "execution_count": 53,
   "id": "4e87a3c1",
   "metadata": {
    "execution": {
     "iopub.execute_input": "2025-05-11T11:51:37.211522Z",
     "iopub.status.busy": "2025-05-11T11:51:37.211193Z",
     "iopub.status.idle": "2025-05-11T11:51:37.220555Z",
     "shell.execute_reply": "2025-05-11T11:51:37.219600Z"
    },
    "papermill": {
     "duration": 0.029431,
     "end_time": "2025-05-11T11:51:37.222242",
     "exception": false,
     "start_time": "2025-05-11T11:51:37.192811",
     "status": "completed"
    },
    "tags": []
   },
   "outputs": [
    {
     "name": "stdout",
     "output_type": "stream",
     "text": [
      "Classification Metrics Comparison:\n",
      "\n",
      "                 Model  Accuracy  Precision    Recall  F1-Score\n",
      "0                  SVM  0.735525   0.735525  0.735525  0.735525\n",
      "1  Logistic Regression  0.782630   0.782630  0.782630  0.782630\n",
      "2        Random Forest  0.717370   0.717370  0.717370  0.717370\n",
      "3              XGBoost  0.763003   0.763003  0.763003  0.763003\n",
      "4             lightbgm  0.762512   0.762512  0.762512  0.762512\n",
      "5    Voting Classifier  0.782630   0.782630  0.782630  0.782630\n",
      "6  Stacking Classifier  0.782139   0.782139  0.782139  0.782139\n"
     ]
    }
   ],
   "source": [
    "# Create DataFrame\n",
    "df_metrics = pd.DataFrame(results)\n",
    "\n",
    "# Display table\n",
    "print(\"Classification Metrics Comparison:\\n\")\n",
    "print(df_metrics)"
   ]
  },
  {
   "cell_type": "markdown",
   "id": "b9f43a27",
   "metadata": {
    "papermill": {
     "duration": 0.021537,
     "end_time": "2025-05-11T11:51:37.260801",
     "exception": false,
     "start_time": "2025-05-11T11:51:37.239264",
     "status": "completed"
    },
    "tags": []
   },
   "source": [
    "# as voting classifier is working fine so we are going with voting classifier]\n"
   ]
  },
  {
   "cell_type": "code",
   "execution_count": 54,
   "id": "1d11f6c1",
   "metadata": {
    "execution": {
     "iopub.execute_input": "2025-05-11T11:51:37.297236Z",
     "iopub.status.busy": "2025-05-11T11:51:37.296381Z",
     "iopub.status.idle": "2025-05-11T11:51:37.481194Z",
     "shell.execute_reply": "2025-05-11T11:51:37.480391Z"
    },
    "papermill": {
     "duration": 0.204404,
     "end_time": "2025-05-11T11:51:37.482724",
     "exception": false,
     "start_time": "2025-05-11T11:51:37.278320",
     "status": "completed"
    },
    "tags": []
   },
   "outputs": [],
   "source": [
    "test['Preprocess question']=test['Question'].apply(preprocess)"
   ]
  },
  {
   "cell_type": "code",
   "execution_count": 55,
   "id": "0bbed2b8",
   "metadata": {
    "execution": {
     "iopub.execute_input": "2025-05-11T11:51:37.518333Z",
     "iopub.status.busy": "2025-05-11T11:51:37.517998Z",
     "iopub.status.idle": "2025-05-11T11:51:37.526598Z",
     "shell.execute_reply": "2025-05-11T11:51:37.525684Z"
    },
    "papermill": {
     "duration": 0.028525,
     "end_time": "2025-05-11T11:51:37.528000",
     "exception": false,
     "start_time": "2025-05-11T11:51:37.499475",
     "status": "completed"
    },
    "tags": []
   },
   "outputs": [
    {
     "data": {
      "text/html": [
       "<div>\n",
       "<style scoped>\n",
       "    .dataframe tbody tr th:only-of-type {\n",
       "        vertical-align: middle;\n",
       "    }\n",
       "\n",
       "    .dataframe tbody tr th {\n",
       "        vertical-align: top;\n",
       "    }\n",
       "\n",
       "    .dataframe thead th {\n",
       "        text-align: right;\n",
       "    }\n",
       "</style>\n",
       "<table border=\"1\" class=\"dataframe\">\n",
       "  <thead>\n",
       "    <tr style=\"text-align: right;\">\n",
       "      <th></th>\n",
       "      <th>id</th>\n",
       "      <th>Question</th>\n",
       "      <th>Preprocess question</th>\n",
       "    </tr>\n",
       "  </thead>\n",
       "  <tbody>\n",
       "    <tr>\n",
       "      <th>0</th>\n",
       "      <td>0</td>\n",
       "      <td>b'Solve 0 = -i - 91*i - 1598*i - 64220 for i.\\n'</td>\n",
       "      <td>b solve &lt;NUM&gt; = -i - &lt;NUM&gt;*i - &lt;NUM&gt;*i - &lt;NUM&gt;...</td>\n",
       "    </tr>\n",
       "    <tr>\n",
       "      <th>1</th>\n",
       "      <td>1</td>\n",
       "      <td>Galperin G.A.\\n\\nA natural number $N$ is 999.....</td>\n",
       "      <td>galperin g.a. a natural number n is &lt;NUM&gt;... &lt;...</td>\n",
       "    </tr>\n",
       "    <tr>\n",
       "      <th>2</th>\n",
       "      <td>2</td>\n",
       "      <td>Example 7 Calculate $\\frac{1}{2 \\sqrt{1}+\\sqrt...</td>\n",
       "      <td>example &lt;NUM&gt; calculate &lt;NUM&gt; divided by &lt;NUM&gt;...</td>\n",
       "    </tr>\n",
       "    <tr>\n",
       "      <th>3</th>\n",
       "      <td>3</td>\n",
       "      <td>If $A$, $B$, and $C$ represent three distinct ...</td>\n",
       "      <td>if a b and c represent three distinct digits f...</td>\n",
       "    </tr>\n",
       "    <tr>\n",
       "      <th>4</th>\n",
       "      <td>4</td>\n",
       "      <td>2. Calculate $1+12+123+1234+12345+123456+12345...</td>\n",
       "      <td>&lt;NUM&gt;. calculate &lt;NUM&gt;+&lt;NUM&gt;+&lt;NUM&gt;+&lt;NUM&gt;+&lt;NUM&gt;...</td>\n",
       "    </tr>\n",
       "  </tbody>\n",
       "</table>\n",
       "</div>"
      ],
      "text/plain": [
       "   id                                           Question  \\\n",
       "0   0   b'Solve 0 = -i - 91*i - 1598*i - 64220 for i.\\n'   \n",
       "1   1  Galperin G.A.\\n\\nA natural number $N$ is 999.....   \n",
       "2   2  Example 7 Calculate $\\frac{1}{2 \\sqrt{1}+\\sqrt...   \n",
       "3   3  If $A$, $B$, and $C$ represent three distinct ...   \n",
       "4   4  2. Calculate $1+12+123+1234+12345+123456+12345...   \n",
       "\n",
       "                                 Preprocess question  \n",
       "0  b solve <NUM> = -i - <NUM>*i - <NUM>*i - <NUM>...  \n",
       "1  galperin g.a. a natural number n is <NUM>... <...  \n",
       "2  example <NUM> calculate <NUM> divided by <NUM>...  \n",
       "3  if a b and c represent three distinct digits f...  \n",
       "4  <NUM>. calculate <NUM>+<NUM>+<NUM>+<NUM>+<NUM>...  "
      ]
     },
     "execution_count": 55,
     "metadata": {},
     "output_type": "execute_result"
    }
   ],
   "source": [
    "test.head()"
   ]
  },
  {
   "cell_type": "code",
   "execution_count": 56,
   "id": "3b45ff47",
   "metadata": {
    "execution": {
     "iopub.execute_input": "2025-05-11T11:51:37.563526Z",
     "iopub.status.busy": "2025-05-11T11:51:37.563205Z",
     "iopub.status.idle": "2025-05-11T11:51:37.571604Z",
     "shell.execute_reply": "2025-05-11T11:51:37.570584Z"
    },
    "papermill": {
     "duration": 0.027783,
     "end_time": "2025-05-11T11:51:37.573100",
     "exception": false,
     "start_time": "2025-05-11T11:51:37.545317",
     "status": "completed"
    },
    "tags": []
   },
   "outputs": [
    {
     "data": {
      "text/plain": [
       "id                     0\n",
       "Question               0\n",
       "Preprocess question    0\n",
       "dtype: int64"
      ]
     },
     "execution_count": 56,
     "metadata": {},
     "output_type": "execute_result"
    }
   ],
   "source": [
    "test.isnull().sum()"
   ]
  },
  {
   "cell_type": "code",
   "execution_count": 57,
   "id": "cad4d764",
   "metadata": {
    "execution": {
     "iopub.execute_input": "2025-05-11T11:51:37.609446Z",
     "iopub.status.busy": "2025-05-11T11:51:37.608650Z",
     "iopub.status.idle": "2025-05-11T11:51:37.801737Z",
     "shell.execute_reply": "2025-05-11T11:51:37.800749Z"
    },
    "papermill": {
     "duration": 0.213352,
     "end_time": "2025-05-11T11:51:37.803528",
     "exception": false,
     "start_time": "2025-05-11T11:51:37.590176",
     "status": "completed"
    },
    "tags": []
   },
   "outputs": [],
   "source": [
    "test_vector = tfidf.transform(test['Preprocess question'])  "
   ]
  },
  {
   "cell_type": "code",
   "execution_count": 58,
   "id": "fca9f483",
   "metadata": {
    "execution": {
     "iopub.execute_input": "2025-05-11T11:51:37.840435Z",
     "iopub.status.busy": "2025-05-11T11:51:37.840100Z",
     "iopub.status.idle": "2025-05-11T11:51:37.845632Z",
     "shell.execute_reply": "2025-05-11T11:51:37.844811Z"
    },
    "papermill": {
     "duration": 0.025786,
     "end_time": "2025-05-11T11:51:37.847048",
     "exception": false,
     "start_time": "2025-05-11T11:51:37.821262",
     "status": "completed"
    },
    "tags": []
   },
   "outputs": [
    {
     "data": {
      "text/plain": [
       "(3044, 15000)"
      ]
     },
     "execution_count": 58,
     "metadata": {},
     "output_type": "execute_result"
    }
   ],
   "source": [
    "test_vector.shape"
   ]
  },
  {
   "cell_type": "code",
   "execution_count": 59,
   "id": "ac4ecfc7",
   "metadata": {
    "execution": {
     "iopub.execute_input": "2025-05-11T11:51:37.883816Z",
     "iopub.status.busy": "2025-05-11T11:51:37.883551Z",
     "iopub.status.idle": "2025-05-11T11:51:38.128713Z",
     "shell.execute_reply": "2025-05-11T11:51:38.127697Z"
    },
    "papermill": {
     "duration": 0.264867,
     "end_time": "2025-05-11T11:51:38.130368",
     "exception": false,
     "start_time": "2025-05-11T11:51:37.865501",
     "status": "completed"
    },
    "tags": []
   },
   "outputs": [],
   "source": [
    "test_predicted_value=voting_clf.predict(test_vector)"
   ]
  },
  {
   "cell_type": "code",
   "execution_count": 60,
   "id": "dc0bcc91",
   "metadata": {
    "execution": {
     "iopub.execute_input": "2025-05-11T11:51:38.166505Z",
     "iopub.status.busy": "2025-05-11T11:51:38.165874Z",
     "iopub.status.idle": "2025-05-11T11:51:38.170671Z",
     "shell.execute_reply": "2025-05-11T11:51:38.169719Z"
    },
    "papermill": {
     "duration": 0.024519,
     "end_time": "2025-05-11T11:51:38.172212",
     "exception": false,
     "start_time": "2025-05-11T11:51:38.147693",
     "status": "completed"
    },
    "tags": []
   },
   "outputs": [],
   "source": [
    "test['label']=test_predicted_value"
   ]
  },
  {
   "cell_type": "code",
   "execution_count": 61,
   "id": "478574a0",
   "metadata": {
    "execution": {
     "iopub.execute_input": "2025-05-11T11:51:38.209517Z",
     "iopub.status.busy": "2025-05-11T11:51:38.209194Z",
     "iopub.status.idle": "2025-05-11T11:51:38.218335Z",
     "shell.execute_reply": "2025-05-11T11:51:38.217443Z"
    },
    "papermill": {
     "duration": 0.029285,
     "end_time": "2025-05-11T11:51:38.219647",
     "exception": false,
     "start_time": "2025-05-11T11:51:38.190362",
     "status": "completed"
    },
    "tags": []
   },
   "outputs": [
    {
     "data": {
      "text/html": [
       "<div>\n",
       "<style scoped>\n",
       "    .dataframe tbody tr th:only-of-type {\n",
       "        vertical-align: middle;\n",
       "    }\n",
       "\n",
       "    .dataframe tbody tr th {\n",
       "        vertical-align: top;\n",
       "    }\n",
       "\n",
       "    .dataframe thead th {\n",
       "        text-align: right;\n",
       "    }\n",
       "</style>\n",
       "<table border=\"1\" class=\"dataframe\">\n",
       "  <thead>\n",
       "    <tr style=\"text-align: right;\">\n",
       "      <th></th>\n",
       "      <th>id</th>\n",
       "      <th>Question</th>\n",
       "      <th>Preprocess question</th>\n",
       "      <th>label</th>\n",
       "    </tr>\n",
       "  </thead>\n",
       "  <tbody>\n",
       "    <tr>\n",
       "      <th>0</th>\n",
       "      <td>0</td>\n",
       "      <td>b'Solve 0 = -i - 91*i - 1598*i - 64220 for i.\\n'</td>\n",
       "      <td>b solve &lt;NUM&gt; = -i - &lt;NUM&gt;*i - &lt;NUM&gt;*i - &lt;NUM&gt;...</td>\n",
       "      <td>0</td>\n",
       "    </tr>\n",
       "    <tr>\n",
       "      <th>1</th>\n",
       "      <td>1</td>\n",
       "      <td>Galperin G.A.\\n\\nA natural number $N$ is 999.....</td>\n",
       "      <td>galperin g.a. a natural number n is &lt;NUM&gt;... &lt;...</td>\n",
       "      <td>4</td>\n",
       "    </tr>\n",
       "    <tr>\n",
       "      <th>2</th>\n",
       "      <td>2</td>\n",
       "      <td>Example 7 Calculate $\\frac{1}{2 \\sqrt{1}+\\sqrt...</td>\n",
       "      <td>example &lt;NUM&gt; calculate &lt;NUM&gt; divided by &lt;NUM&gt;...</td>\n",
       "      <td>2</td>\n",
       "    </tr>\n",
       "    <tr>\n",
       "      <th>3</th>\n",
       "      <td>3</td>\n",
       "      <td>If $A$, $B$, and $C$ represent three distinct ...</td>\n",
       "      <td>if a b and c represent three distinct digits f...</td>\n",
       "      <td>4</td>\n",
       "    </tr>\n",
       "    <tr>\n",
       "      <th>4</th>\n",
       "      <td>4</td>\n",
       "      <td>2. Calculate $1+12+123+1234+12345+123456+12345...</td>\n",
       "      <td>&lt;NUM&gt;. calculate &lt;NUM&gt;+&lt;NUM&gt;+&lt;NUM&gt;+&lt;NUM&gt;+&lt;NUM&gt;...</td>\n",
       "      <td>4</td>\n",
       "    </tr>\n",
       "  </tbody>\n",
       "</table>\n",
       "</div>"
      ],
      "text/plain": [
       "   id                                           Question  \\\n",
       "0   0   b'Solve 0 = -i - 91*i - 1598*i - 64220 for i.\\n'   \n",
       "1   1  Galperin G.A.\\n\\nA natural number $N$ is 999.....   \n",
       "2   2  Example 7 Calculate $\\frac{1}{2 \\sqrt{1}+\\sqrt...   \n",
       "3   3  If $A$, $B$, and $C$ represent three distinct ...   \n",
       "4   4  2. Calculate $1+12+123+1234+12345+123456+12345...   \n",
       "\n",
       "                                 Preprocess question  label  \n",
       "0  b solve <NUM> = -i - <NUM>*i - <NUM>*i - <NUM>...      0  \n",
       "1  galperin g.a. a natural number n is <NUM>... <...      4  \n",
       "2  example <NUM> calculate <NUM> divided by <NUM>...      2  \n",
       "3  if a b and c represent three distinct digits f...      4  \n",
       "4  <NUM>. calculate <NUM>+<NUM>+<NUM>+<NUM>+<NUM>...      4  "
      ]
     },
     "execution_count": 61,
     "metadata": {},
     "output_type": "execute_result"
    }
   ],
   "source": [
    "test.head()"
   ]
  },
  {
   "cell_type": "code",
   "execution_count": 62,
   "id": "295293d0",
   "metadata": {
    "execution": {
     "iopub.execute_input": "2025-05-11T11:51:38.257438Z",
     "iopub.status.busy": "2025-05-11T11:51:38.256588Z",
     "iopub.status.idle": "2025-05-11T11:51:38.264017Z",
     "shell.execute_reply": "2025-05-11T11:51:38.262963Z"
    },
    "papermill": {
     "duration": 0.028536,
     "end_time": "2025-05-11T11:51:38.265547",
     "exception": false,
     "start_time": "2025-05-11T11:51:38.237011",
     "status": "completed"
    },
    "tags": []
   },
   "outputs": [
    {
     "data": {
      "text/plain": [
       "label\n",
       "0    851\n",
       "1    709\n",
       "5    548\n",
       "4    512\n",
       "2    298\n",
       "3     90\n",
       "7     23\n",
       "6     13\n",
       "Name: count, dtype: int64"
      ]
     },
     "execution_count": 62,
     "metadata": {},
     "output_type": "execute_result"
    }
   ],
   "source": [
    "\n",
    "test['label'].value_counts()"
   ]
  },
  {
   "cell_type": "code",
   "execution_count": 63,
   "id": "1caae3af",
   "metadata": {
    "execution": {
     "iopub.execute_input": "2025-05-11T11:51:38.303331Z",
     "iopub.status.busy": "2025-05-11T11:51:38.302668Z",
     "iopub.status.idle": "2025-05-11T11:51:38.310509Z",
     "shell.execute_reply": "2025-05-11T11:51:38.309634Z"
    },
    "papermill": {
     "duration": 0.027742,
     "end_time": "2025-05-11T11:51:38.311863",
     "exception": false,
     "start_time": "2025-05-11T11:51:38.284121",
     "status": "completed"
    },
    "tags": []
   },
   "outputs": [],
   "source": [
    "test.drop(['Question', 'Preprocess question'], axis=1, inplace=True)"
   ]
  },
  {
   "cell_type": "code",
   "execution_count": 64,
   "id": "d4943348",
   "metadata": {
    "execution": {
     "iopub.execute_input": "2025-05-11T11:51:38.348914Z",
     "iopub.status.busy": "2025-05-11T11:51:38.348586Z",
     "iopub.status.idle": "2025-05-11T11:51:38.358844Z",
     "shell.execute_reply": "2025-05-11T11:51:38.357993Z"
    },
    "papermill": {
     "duration": 0.030122,
     "end_time": "2025-05-11T11:51:38.360379",
     "exception": false,
     "start_time": "2025-05-11T11:51:38.330257",
     "status": "completed"
    },
    "tags": []
   },
   "outputs": [
    {
     "data": {
      "text/html": [
       "<div>\n",
       "<style scoped>\n",
       "    .dataframe tbody tr th:only-of-type {\n",
       "        vertical-align: middle;\n",
       "    }\n",
       "\n",
       "    .dataframe tbody tr th {\n",
       "        vertical-align: top;\n",
       "    }\n",
       "\n",
       "    .dataframe thead th {\n",
       "        text-align: right;\n",
       "    }\n",
       "</style>\n",
       "<table border=\"1\" class=\"dataframe\">\n",
       "  <thead>\n",
       "    <tr style=\"text-align: right;\">\n",
       "      <th></th>\n",
       "      <th>id</th>\n",
       "      <th>label</th>\n",
       "    </tr>\n",
       "  </thead>\n",
       "  <tbody>\n",
       "    <tr>\n",
       "      <th>0</th>\n",
       "      <td>0</td>\n",
       "      <td>0</td>\n",
       "    </tr>\n",
       "    <tr>\n",
       "      <th>1</th>\n",
       "      <td>1</td>\n",
       "      <td>4</td>\n",
       "    </tr>\n",
       "    <tr>\n",
       "      <th>2</th>\n",
       "      <td>2</td>\n",
       "      <td>2</td>\n",
       "    </tr>\n",
       "    <tr>\n",
       "      <th>3</th>\n",
       "      <td>3</td>\n",
       "      <td>4</td>\n",
       "    </tr>\n",
       "    <tr>\n",
       "      <th>4</th>\n",
       "      <td>4</td>\n",
       "      <td>4</td>\n",
       "    </tr>\n",
       "    <tr>\n",
       "      <th>...</th>\n",
       "      <td>...</td>\n",
       "      <td>...</td>\n",
       "    </tr>\n",
       "    <tr>\n",
       "      <th>3039</th>\n",
       "      <td>3039</td>\n",
       "      <td>4</td>\n",
       "    </tr>\n",
       "    <tr>\n",
       "      <th>3040</th>\n",
       "      <td>3040</td>\n",
       "      <td>1</td>\n",
       "    </tr>\n",
       "    <tr>\n",
       "      <th>3041</th>\n",
       "      <td>3041</td>\n",
       "      <td>1</td>\n",
       "    </tr>\n",
       "    <tr>\n",
       "      <th>3042</th>\n",
       "      <td>3042</td>\n",
       "      <td>4</td>\n",
       "    </tr>\n",
       "    <tr>\n",
       "      <th>3043</th>\n",
       "      <td>3043</td>\n",
       "      <td>5</td>\n",
       "    </tr>\n",
       "  </tbody>\n",
       "</table>\n",
       "<p>3044 rows × 2 columns</p>\n",
       "</div>"
      ],
      "text/plain": [
       "        id  label\n",
       "0        0      0\n",
       "1        1      4\n",
       "2        2      2\n",
       "3        3      4\n",
       "4        4      4\n",
       "...    ...    ...\n",
       "3039  3039      4\n",
       "3040  3040      1\n",
       "3041  3041      1\n",
       "3042  3042      4\n",
       "3043  3043      5\n",
       "\n",
       "[3044 rows x 2 columns]"
      ]
     },
     "execution_count": 64,
     "metadata": {},
     "output_type": "execute_result"
    }
   ],
   "source": [
    "test"
   ]
  },
  {
   "cell_type": "code",
   "execution_count": 65,
   "id": "676cffdf",
   "metadata": {
    "execution": {
     "iopub.execute_input": "2025-05-11T11:51:38.399984Z",
     "iopub.status.busy": "2025-05-11T11:51:38.399271Z",
     "iopub.status.idle": "2025-05-11T11:51:38.412499Z",
     "shell.execute_reply": "2025-05-11T11:51:38.411628Z"
    },
    "papermill": {
     "duration": 0.035191,
     "end_time": "2025-05-11T11:51:38.414212",
     "exception": false,
     "start_time": "2025-05-11T11:51:38.379021",
     "status": "completed"
    },
    "tags": []
   },
   "outputs": [],
   "source": [
    "test.to_csv(\"submission.csv\",index=False)"
   ]
  },
  {
   "cell_type": "code",
   "execution_count": 66,
   "id": "4757f205",
   "metadata": {
    "execution": {
     "iopub.execute_input": "2025-05-11T11:51:38.451608Z",
     "iopub.status.busy": "2025-05-11T11:51:38.451301Z",
     "iopub.status.idle": "2025-05-11T11:51:38.456320Z",
     "shell.execute_reply": "2025-05-11T11:51:38.455232Z"
    },
    "papermill": {
     "duration": 0.025178,
     "end_time": "2025-05-11T11:51:38.457898",
     "exception": false,
     "start_time": "2025-05-11T11:51:38.432720",
     "status": "completed"
    },
    "tags": []
   },
   "outputs": [
    {
     "name": "stdout",
     "output_type": "stream",
     "text": [
      "Submission saved to submission.csv\n"
     ]
    }
   ],
   "source": [
    "print(\"Submission saved to submission.csv\")"
   ]
  }
 ],
 "metadata": {
  "kaggle": {
   "accelerator": "none",
   "dataSources": [
    {
     "databundleVersionId": 11615683,
     "sourceId": 97669,
     "sourceType": "competition"
    }
   ],
   "dockerImageVersionId": 31012,
   "isGpuEnabled": false,
   "isInternetEnabled": true,
   "language": "python",
   "sourceType": "notebook"
  },
  "kernelspec": {
   "display_name": "Python 3",
   "language": "python",
   "name": "python3"
  },
  "language_info": {
   "codemirror_mode": {
    "name": "ipython",
    "version": 3
   },
   "file_extension": ".py",
   "mimetype": "text/x-python",
   "name": "python",
   "nbconvert_exporter": "python",
   "pygments_lexer": "ipython3",
   "version": "3.11.11"
  },
  "papermill": {
   "default_parameters": {},
   "duration": 1840.695549,
   "end_time": "2025-05-11T11:51:39.600733",
   "environment_variables": {},
   "exception": null,
   "input_path": "__notebook__.ipynb",
   "output_path": "__notebook__.ipynb",
   "parameters": {},
   "start_time": "2025-05-11T11:20:58.905184",
   "version": "2.6.0"
  }
 },
 "nbformat": 4,
 "nbformat_minor": 5
}
